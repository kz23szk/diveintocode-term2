{
 "cells": [
  {
   "cell_type": "markdown",
   "metadata": {},
   "source": [
    "# AIF_sprint14-dnn-framework"
   ]
  },
  {
   "cell_type": "markdown",
   "metadata": {},
   "source": [
    "### Kerasでの実装\n"
   ]
  },
  {
   "cell_type": "markdown",
   "metadata": {},
   "source": [
    "### 1.Sequential APIを使った実装"
   ]
  },
  {
   "cell_type": "markdown",
   "metadata": {},
   "source": [
    "### モデル作成"
   ]
  },
  {
   "cell_type": "code",
   "execution_count": 1,
   "metadata": {},
   "outputs": [
    {
     "name": "stderr",
     "output_type": "stream",
     "text": [
      "/Users/kzfm/.pyenv/versions/anaconda3-5.1.0/lib/python3.6/site-packages/h5py/__init__.py:36: FutureWarning: Conversion of the second argument of issubdtype from `float` to `np.floating` is deprecated. In future, it will be treated as `np.float64 == np.dtype(float).type`.\n",
      "  from ._conv import register_converters as _register_converters\n",
      "Using TensorFlow backend.\n"
     ]
    }
   ],
   "source": [
    "from keras.models import Sequential\n",
    "from keras.layers import Dense, Activation\n",
    "from keras.layers import BatchNormalization\n",
    "from keras.layers import Dropout\n",
    "\n",
    "model = Sequential([\n",
    "    Dense(100, input_shape=(784, )), # Affine層\n",
    "    BatchNormalization(),\n",
    "    Activation('relu'), # 活性化層\n",
    "    Dropout(0.2),\n",
    "    Dense(100), # Affine層\n",
    "    BatchNormalization(),\n",
    "    Activation('relu'), # 活性化層\n",
    "    Dropout(0.2),\n",
    "    Dense(100), # Affine層\n",
    "    BatchNormalization(),\n",
    "    Activation('relu'), # 活性化層\n",
    "    Dropout(0.2),\n",
    "    Dense(100), # Affine層\n",
    "    BatchNormalization(),\n",
    "    Activation('relu'), # 活性化層\n",
    "    Dropout(0.2),\n",
    "    Dense(100), # Affine層\n",
    "    BatchNormalization(),\n",
    "    Activation('relu'), # 活性化層\n",
    "    Dropout(0.2),\n",
    "    Dense(10), # Affine層\n",
    "    Activation('softmax'),\n",
    "])"
   ]
  },
  {
   "cell_type": "markdown",
   "metadata": {},
   "source": [
    "下記のように層を追加できる。\n",
    "\n",
    "model = Sequential()\n",
    "\n",
    "model.add(Dense(32, input_dim=784))\n",
    "\n",
    "model.add(Activation('relu'))"
   ]
  },
  {
   "cell_type": "markdown",
   "metadata": {},
   "source": [
    "### コンパイル（設定）"
   ]
  },
  {
   "cell_type": "code",
   "execution_count": 2,
   "metadata": {},
   "outputs": [],
   "source": [
    "# 学習方法の設定\n",
    "model.compile(optimizer='adagrad', # 学習アルゴリズム　あとで調べる\n",
    "              loss='categorical_crossentropy', # 多クラス分類\n",
    "              metrics=['accuracy']) # 正答率を指標にする"
   ]
  },
  {
   "cell_type": "markdown",
   "metadata": {},
   "source": [
    "### データの作成"
   ]
  },
  {
   "cell_type": "code",
   "execution_count": 3,
   "metadata": {},
   "outputs": [],
   "source": [
    "import matplotlib.pyplot as plt\n",
    "import numpy as np\n",
    "import pandas as pd\n",
    "import pandas as pd\n",
    "\n",
    "%matplotlib inline\n",
    "\n",
    "train_df = pd.read_csv(\"train.csv\", nrows=1000)\n",
    "# train_df = pd.read_csv(\"train.csv\")\n",
    "# test_df = pd.read_csv(\"test.csv\", nrows=100)\n",
    "\n",
    "X = train_df.drop('label', axis=1)\n",
    "y = pd.get_dummies(train_df['label'])\n",
    "#y = train_df['label']\n",
    "X = np.array(X)\n",
    "y = np.array(y)\n",
    "\n",
    "# 訓練とテストデータに分割\n",
    "from sklearn.model_selection import train_test_split\n",
    "\n",
    "X_train, X_test, y_train, y_test = train_test_split(X, y, test_size=0.2, random_state=0)"
   ]
  },
  {
   "cell_type": "code",
   "execution_count": 4,
   "metadata": {},
   "outputs": [
    {
     "data": {
      "text/plain": [
       "(800, 784)"
      ]
     },
     "execution_count": 4,
     "metadata": {},
     "output_type": "execute_result"
    }
   ],
   "source": [
    "X_train.shape"
   ]
  },
  {
   "cell_type": "markdown",
   "metadata": {},
   "source": [
    "### 訓練"
   ]
  },
  {
   "cell_type": "code",
   "execution_count": 5,
   "metadata": {},
   "outputs": [
    {
     "name": "stdout",
     "output_type": "stream",
     "text": [
      "Epoch 1/20\n",
      "800/800 [==============================] - 2s 2ms/step - loss: 1.7809 - acc: 0.3925\n",
      "Epoch 2/20\n",
      "800/800 [==============================] - 0s 230us/step - loss: 1.0591 - acc: 0.6712\n",
      "Epoch 3/20\n",
      "800/800 [==============================] - 0s 185us/step - loss: 0.8315 - acc: 0.7487\n",
      "Epoch 4/20\n",
      "800/800 [==============================] - 0s 162us/step - loss: 0.7343 - acc: 0.7675\n",
      "Epoch 5/20\n",
      "800/800 [==============================] - 0s 156us/step - loss: 0.5853 - acc: 0.8375\n",
      "Epoch 6/20\n",
      "800/800 [==============================] - 0s 149us/step - loss: 0.5631 - acc: 0.8350\n",
      "Epoch 7/20\n",
      "800/800 [==============================] - 0s 161us/step - loss: 0.4753 - acc: 0.8650\n",
      "Epoch 8/20\n",
      "800/800 [==============================] - 0s 178us/step - loss: 0.4601 - acc: 0.8700\n",
      "Epoch 9/20\n",
      "800/800 [==============================] - 0s 172us/step - loss: 0.4594 - acc: 0.8450\n",
      "Epoch 10/20\n",
      "800/800 [==============================] - 0s 151us/step - loss: 0.4037 - acc: 0.8800\n",
      "Epoch 11/20\n",
      "800/800 [==============================] - 0s 150us/step - loss: 0.3673 - acc: 0.8962\n",
      "Epoch 12/20\n",
      "800/800 [==============================] - 0s 159us/step - loss: 0.3702 - acc: 0.8925\n",
      "Epoch 13/20\n",
      "800/800 [==============================] - 0s 153us/step - loss: 0.3036 - acc: 0.8975\n",
      "Epoch 14/20\n",
      "800/800 [==============================] - 0s 147us/step - loss: 0.3117 - acc: 0.9150\n",
      "Epoch 15/20\n",
      "800/800 [==============================] - 0s 150us/step - loss: 0.2580 - acc: 0.9175\n",
      "Epoch 16/20\n",
      "800/800 [==============================] - 0s 168us/step - loss: 0.3193 - acc: 0.9075\n",
      "Epoch 17/20\n",
      "800/800 [==============================] - 0s 181us/step - loss: 0.2703 - acc: 0.9162\n",
      "Epoch 18/20\n",
      "800/800 [==============================] - 0s 213us/step - loss: 0.2254 - acc: 0.9400\n",
      "Epoch 19/20\n",
      "800/800 [==============================] - 0s 207us/step - loss: 0.2318 - acc: 0.9288\n",
      "Epoch 20/20\n",
      "800/800 [==============================] - 0s 201us/step - loss: 0.2953 - acc: 0.9137\n"
     ]
    },
    {
     "data": {
      "text/plain": [
       "<keras.callbacks.History at 0x181bcfe3c8>"
      ]
     },
     "execution_count": 5,
     "metadata": {},
     "output_type": "execute_result"
    }
   ],
   "source": [
    "# 各イテレーションのバッチサイズを20で学習を行なう\n",
    "model.fit(X_train, y_train, epochs=20, batch_size=40)"
   ]
  },
  {
   "cell_type": "markdown",
   "metadata": {},
   "source": [
    "### 2.Functional APIを使った実装\n",
    "\n",
    "下記の実装だとSequentialAPIと大差ないが、入力や出力を分岐、結合させることができるためより柔軟な制御ができる。"
   ]
  },
  {
   "cell_type": "code",
   "execution_count": 6,
   "metadata": {},
   "outputs": [
    {
     "name": "stdout",
     "output_type": "stream",
     "text": [
      "Epoch 1/20\n",
      "800/800 [==============================] - 3s 4ms/step - loss: 2.8402 - acc: 0.1513\n",
      "Epoch 2/20\n",
      "800/800 [==============================] - 0s 204us/step - loss: 2.2346 - acc: 0.2662\n",
      "Epoch 3/20\n",
      "800/800 [==============================] - 0s 200us/step - loss: 1.8263 - acc: 0.3925\n",
      "Epoch 4/20\n",
      "800/800 [==============================] - 0s 210us/step - loss: 1.5382 - acc: 0.4925\n",
      "Epoch 5/20\n",
      "800/800 [==============================] - 0s 225us/step - loss: 1.2771 - acc: 0.5925\n",
      "Epoch 6/20\n",
      "800/800 [==============================] - 0s 217us/step - loss: 1.1257 - acc: 0.6312\n",
      "Epoch 7/20\n",
      "800/800 [==============================] - 0s 213us/step - loss: 0.9820 - acc: 0.6638\n",
      "Epoch 8/20\n",
      "800/800 [==============================] - 0s 201us/step - loss: 0.8954 - acc: 0.7038\n",
      "Epoch 9/20\n",
      "800/800 [==============================] - 0s 195us/step - loss: 0.8437 - acc: 0.7387\n",
      "Epoch 10/20\n",
      "800/800 [==============================] - 0s 339us/step - loss: 0.7475 - acc: 0.7512\n",
      "Epoch 11/20\n",
      "800/800 [==============================] - 0s 304us/step - loss: 0.6748 - acc: 0.7862\n",
      "Epoch 12/20\n",
      "800/800 [==============================] - 0s 187us/step - loss: 0.6811 - acc: 0.7750\n",
      "Epoch 13/20\n",
      "800/800 [==============================] - 0s 179us/step - loss: 0.5351 - acc: 0.8250\n",
      "Epoch 14/20\n",
      "800/800 [==============================] - 0s 180us/step - loss: 0.5039 - acc: 0.8387\n",
      "Epoch 15/20\n",
      "800/800 [==============================] - 0s 239us/step - loss: 0.5166 - acc: 0.8450\n",
      "Epoch 16/20\n",
      "800/800 [==============================] - 0s 210us/step - loss: 0.4238 - acc: 0.8562\n",
      "Epoch 17/20\n",
      "800/800 [==============================] - 0s 258us/step - loss: 0.4706 - acc: 0.8437\n",
      "Epoch 18/20\n",
      "800/800 [==============================] - 0s 305us/step - loss: 0.3830 - acc: 0.8900\n",
      "Epoch 19/20\n",
      "800/800 [==============================] - 0s 215us/step - loss: 0.3954 - acc: 0.8775\n",
      "Epoch 20/20\n",
      "800/800 [==============================] - 0s 197us/step - loss: 0.3180 - acc: 0.9012\n"
     ]
    },
    {
     "data": {
      "text/plain": [
       "<keras.callbacks.History at 0x1a1fb5f668>"
      ]
     },
     "execution_count": 6,
     "metadata": {},
     "output_type": "execute_result"
    }
   ],
   "source": [
    "from keras.layers import Input, Dense\n",
    "from keras.models import Model\n",
    "\n",
    "\n",
    "# This returns a tensor\n",
    "inputs = Input(shape=(784,))\n",
    "\n",
    "# a layer instance is callable on a tensor, and returns a tensor\n",
    "x = Dense(100, activation='relu')(inputs)\n",
    "x = BatchNormalization()(x)\n",
    "x = Dropout(rate=0.2)(x)\n",
    "x = Dense(100, activation='relu')(x)\n",
    "x = BatchNormalization()(x)\n",
    "x = Dropout(rate=0.2)(x)\n",
    "x = Dense(100, activation='relu')(x)\n",
    "x = BatchNormalization()(x)\n",
    "x = Dropout(rate=0.2)(x)\n",
    "x = Dense(100, activation='relu')(x)\n",
    "x = BatchNormalization()(x)\n",
    "x = Dropout(rate=0.2)(x)\n",
    "x = Dense(100, activation='relu')(x)\n",
    "x = BatchNormalization()(x)\n",
    "x = Dropout(rate=0.2)(x)\n",
    "x = Dense(100, activation='relu')(x)\n",
    "x = BatchNormalization()(x)\n",
    "x = Dropout(rate=0.2)(x)\n",
    "# x = Dense(100, activation='relu')(x)\n",
    "predictions = Dense(10, activation='softmax')(x)\n",
    "\n",
    "# This creates a model that includes\n",
    "# the Input layer and three Dense layers\n",
    "model = Model(inputs=inputs, outputs=predictions)\n",
    "model.compile(optimizer='adam',\n",
    "              loss='categorical_crossentropy',\n",
    "              metrics=['accuracy'])\n",
    "model.fit(X_train, y_train, epochs=20, batch_size=40) "
   ]
  },
  {
   "cell_type": "markdown",
   "metadata": {},
   "source": [
    "### Chainerでの実装"
   ]
  },
  {
   "cell_type": "markdown",
   "metadata": {},
   "source": [
    "### データの取得（yをラベルで保持する）"
   ]
  },
  {
   "cell_type": "code",
   "execution_count": 7,
   "metadata": {},
   "outputs": [],
   "source": [
    "import matplotlib.pyplot as plt\n",
    "import numpy as np\n",
    "import pandas as pd\n",
    "import pandas as pd\n",
    "\n",
    "%matplotlib inline\n",
    "\n",
    "train_df = pd.read_csv(\"train.csv\", nrows=1000)\n",
    "# train_df = pd.read_csv(\"train.csv\")\n",
    "# test_df = pd.read_csv(\"test.csv\", nrows=100)\n",
    "\n",
    "X = train_df.drop('label', axis=1)\n",
    "# y = pd.get_dummies(train_df['label'])\n",
    "y = train_df['label']\n",
    "X = np.array(X)\n",
    "y = np.array(y)\n",
    "\n",
    "# 訓練とテストデータに分割\n",
    "from sklearn.model_selection import train_test_split\n",
    "\n",
    "X_train, X_test, y_train, y_test = train_test_split(X, y, test_size=0.2, random_state=0)"
   ]
  },
  {
   "cell_type": "code",
   "execution_count": 8,
   "metadata": {},
   "outputs": [],
   "source": [
    "import chainer\n",
    "from chainer import Chain, Variable\n",
    "from chainer import functions as F\n",
    "from chainer import links as L\n",
    "\n",
    "class Model(chainer.Chain):\n",
    "#モデルを定義するときはchainer.Chainを継承します。これによってモデルに関するいろいろな機能が使えます。\n",
    "    def __init__(self, n_features, n_out):\n",
    "        super(Model, self).__init__()\n",
    "        with self.init_scope():\n",
    "            n_units = 100\n",
    "            #ここにlinkを並べる\n",
    "            self.l1 = L.Linear(n_features, n_units)\n",
    "            self.l2 = L.Linear(n_units, n_units)\n",
    "            self.l3 = L.Linear(n_units, n_out)\n",
    "            \n",
    "    def __call__(self, x):\n",
    "        # ここにfunctionを加えながら、forwardを書く\n",
    "        h1 = F.relu(self.l1(x))\n",
    "        h3 = F.relu(self.l2(h1))\n",
    "        return self.l3(h3)\n",
    "\n",
    "\n",
    "#モデルのインスタンスの作成\n",
    "model = L.Classifier(Model(784, 10))"
   ]
  },
  {
   "cell_type": "markdown",
   "metadata": {},
   "source": [
    "### ミニバッチ処理（Iteratorの作成)"
   ]
  },
  {
   "cell_type": "code",
   "execution_count": 9,
   "metadata": {},
   "outputs": [],
   "source": [
    "from chainer import iterators\n",
    "from chainer.datasets import tuple_dataset\n",
    "\n",
    "\n",
    "train = tuple_dataset.TupleDataset(X_train, y_train)\n",
    "test = tuple_dataset.TupleDataset(X_test, y_test)\n",
    "\n",
    "train_iter = iterators.SerialIterator(train, batch_size=40)\n",
    "test_iter = iterators.SerialIterator(test, batch_size=40,\n",
    "                                     repeat=False, shuffle=False)"
   ]
  },
  {
   "cell_type": "markdown",
   "metadata": {},
   "source": [
    "### Optimizerの用意\n",
    "\n",
    "今回はadamをoptimizerとして指定した。"
   ]
  },
  {
   "cell_type": "code",
   "execution_count": 19,
   "metadata": {},
   "outputs": [
    {
     "data": {
      "text/plain": [
       "<chainer.optimizers.sgd.SGD at 0x1a3b5fc3c8>"
      ]
     },
     "execution_count": 19,
     "metadata": {},
     "output_type": "execute_result"
    }
   ],
   "source": [
    "from chainer import optimizers\n",
    "\n",
    "optimizer = optimizers.SGD(lr=0.01)\n",
    "optimizer.setup(model)"
   ]
  },
  {
   "cell_type": "markdown",
   "metadata": {},
   "source": [
    "### 学習"
   ]
  },
  {
   "cell_type": "code",
   "execution_count": 20,
   "metadata": {},
   "outputs": [],
   "source": [
    "import numpy as np\n",
    "from chainer.dataset import concat_examples\n",
    "from chainer.cuda import to_cpu\n",
    "\n",
    "epoch_num = 1000\n",
    "\n",
    "for epoch in range(epoch_num):\n",
    "\n",
    "    batch = train_iter.next()\n",
    "    # [(X1, y1), (X2, y2), (X3, y3), (X4, y4), (X5, y5), ..., (X_40, y_40)]\n",
    "    # 書き方がこなれていない？　リスト内包表記で無理やり\n",
    "    X_batch = np.array([ data[0] for data in batch], dtype=np.float32)\n",
    "    y_batch = np.array([ data[1] for data in batch], dtype=np.int32)\n",
    "\n",
    "    # 予測値の計算\n",
    "    # 作成したモデルにデータを入力して、出力y_predを得るコード\n",
    "    y_pred = model.predictor(X_batch)\n",
    "\n",
    "    #出力y_predと正解yからロスを計算するコード\n",
    "    loss = F.softmax_cross_entropy(y_pred, y_batch)\n",
    "\n",
    "    # 勾配の計算\n",
    "    #ロスのVariableのbackward()メソッドを呼ぶコード\n",
    "    loss.backward()\n",
    "    model.cleargrads()\n",
    "    \n",
    "    # パラメータの更新\n",
    "    #Optimizerのupdate()メソッドを呼ぶコード\n",
    "    optimizer.update()\n",
    "    "
   ]
  },
  {
   "cell_type": "markdown",
   "metadata": {},
   "source": [
    "### 推定と精度の評価"
   ]
  },
  {
   "cell_type": "code",
   "execution_count": 21,
   "metadata": {},
   "outputs": [
    {
     "data": {
      "text/plain": [
       "variable(0.765)"
      ]
     },
     "execution_count": 21,
     "metadata": {},
     "output_type": "execute_result"
    }
   ],
   "source": [
    "X_test_val = np.array([ data for data in X_test], dtype=np.float32)\n",
    "y_test_val = np.array([ data for data in y_test], dtype=np.int32)\n",
    "\n",
    "# フォワードによる予測値の出力\n",
    "y_pred_test = model.predictor(X_test_val)\n",
    "\n",
    "# 精度（accuracyの出力）\n",
    "F.accuracy(y_pred_test, y_test_val)"
   ]
  },
  {
   "cell_type": "markdown",
   "metadata": {},
   "source": [
    "### Trainerクラスを使った実装\n",
    "\n",
    "trainerクラスを使用すると、データをセットしてrunするだけで学習することができる。\n",
    "\n",
    "ループ内の処理（勾配計算、パラメータ更新）を簡潔に書くことができる。"
   ]
  },
  {
   "cell_type": "code",
   "execution_count": 13,
   "metadata": {},
   "outputs": [
    {
     "name": "stdout",
     "output_type": "stream",
     "text": [
      "Finish!!\n"
     ]
    }
   ],
   "source": [
    "from chainer import training\n",
    "from chainer.training import extensions\n",
    "\n",
    "train, test = chainer.datasets.get_mnist()\n",
    "train_iter = chainer.iterators.SerialIterator(train, 40)\n",
    "test_iter = chainer.iterators.SerialIterator(test, 40,\n",
    "                                             repeat=False, shuffle=False)\n",
    "\n",
    "model = L.Classifier(Model(784, 10))\n",
    "optimizer = chainer.optimizers.Adam()\n",
    "optimizer.setup(model)\n",
    "updater = training.StandardUpdater(train_iter, optimizer, device=-1)\n",
    "trainer = training.Trainer(updater, (10, 'epoch'), out=\"result\")\n",
    "\n",
    "# trainer.extend(extensions.Evaluator(test_iter, model, device=10))\n",
    "# trainer.extend(extensions.dump_graph('main/loss'))\n",
    "# trainer.extend(extensions.snapshot(), trigger=(10, 'epoch'))\n",
    "# trainer.extend(extensions.LogReport())\n",
    "# trainer.extend(extensions.PrintReport(\n",
    "#     ['epoch', 'main/loss', 'validation/main/loss',\n",
    "#      'main/accuracy', 'validation/main/accuracy']))\n",
    "# trainer.extend(extensions.ProgressBar())\n",
    "trainer.run()\n",
    "print(\"Finish!!\")"
   ]
  },
  {
   "cell_type": "code",
   "execution_count": 14,
   "metadata": {},
   "outputs": [
    {
     "data": {
      "text/plain": [
       "variable(0.99)"
      ]
     },
     "execution_count": 14,
     "metadata": {},
     "output_type": "execute_result"
    }
   ],
   "source": [
    "X_test_val = np.array([ data for data in X_test], dtype=np.float32)\n",
    "y_test_val = np.array([ data for data in y_test], dtype=np.int32)\n",
    "\n",
    "# フォワード\n",
    "y_pred_test = model.predictor(X_test_val)\n",
    "\n",
    "# 精度（accuracyの出力）\n",
    "F.accuracy(y_pred_test, y_test_val)"
   ]
  },
  {
   "cell_type": "markdown",
   "metadata": {},
   "source": [
    "### (おまけ)いろいろ足してみる-バッチノーマリゼーションとドロップアウト\n"
   ]
  },
  {
   "cell_type": "code",
   "execution_count": 15,
   "metadata": {},
   "outputs": [],
   "source": [
    "import chainer\n",
    "from chainer import Chain, Variable\n",
    "from chainer import functions as F\n",
    "from chainer import links as L\n",
    "\n",
    "class Model(chainer.Chain):\n",
    "#モデルを定義するときはchainer.Chainを継承します。これによってモデルに関するいろいろな機能が使えます。\n",
    "    def __init__(self, n_features, n_out):\n",
    "        super(Model, self).__init__()\n",
    "        with self.init_scope():\n",
    "            n_units = 100\n",
    "            #ここにlinkを並べる\n",
    "            self.l1 = L.Linear(n_features, n_units)\n",
    "            self.bn1 = L.BatchNormalization(n_units)\n",
    "            self.l2 = L.Linear(n_units, n_units)\n",
    "            self.bn2 = L.BatchNormalization(n_units)\n",
    "            self.l3 = L.Linear(n_units, n_out)\n",
    "            \n",
    "    def __call__(self, x):\n",
    "        #ここにfunctionを加えながら、forwardを書く\n",
    "        a1 = self.bn1(self.l1(x))\n",
    "        h1 = F.relu(a1)\n",
    "        h2 = F.dropout(h1, ratio=0.2)\n",
    "        h3 = F.relu(self.bn2(self.l2(h2)))\n",
    "        return self.l3(h3)\n",
    "\n",
    "\n",
    "#モデルのインスタンスの作成\n",
    "model = L.Classifier(Model(784, 10))"
   ]
  },
  {
   "cell_type": "code",
   "execution_count": 16,
   "metadata": {},
   "outputs": [
    {
     "data": {
      "text/plain": [
       "<chainer.optimizers.adam.Adam at 0x1a2270b978>"
      ]
     },
     "execution_count": 16,
     "metadata": {},
     "output_type": "execute_result"
    }
   ],
   "source": [
    "from chainer import optimizers\n",
    "\n",
    "optimizer = optimizers.Adam(alpha=0.01)\n",
    "optimizer.setup(model)"
   ]
  },
  {
   "cell_type": "code",
   "execution_count": 17,
   "metadata": {},
   "outputs": [],
   "source": [
    "import numpy as np\n",
    "from chainer.dataset import concat_examples\n",
    "from chainer.cuda import to_cpu\n",
    "\n",
    "epoch_num = 10\n",
    "\n",
    "for epoch in range(epoch_num):\n",
    "\n",
    "    batch = train_iter.next()\n",
    "    # [(X1, y1), (X2, y2), (X3, y3), (X4, y4), (X5, y5), ..., (X_40, y_40)]\n",
    "    \n",
    "    # 書き方がこなれていない？　リスト内包表記で無理やり\n",
    "    X_batch = np.array([ data[0] for data in batch], dtype=np.float32)\n",
    "    y_batch = np.array([ data[1] for data in batch], dtype=np.int32)\n",
    "    #     X_batch, y_batch = concat_examples(batch)\n",
    "\n",
    "    # 予測値の計算\n",
    "    # 作成したモデルにデータを入力して、出力y_predを得るコード\n",
    "    y_pred = model.predictor(X_batch)\n",
    "\n",
    "    #出力y_predと正解yからロスを計算するコード\n",
    "    loss = F.softmax_cross_entropy(y_pred, y_batch)\n",
    "\n",
    "    # 勾配の計算\n",
    "    #ロスのVariableのbackward()メソッドを呼ぶコード\n",
    "    model.cleargrads()\n",
    "    loss.backward()\n",
    "\n",
    "    # パラメータの更新\n",
    "    #Optimizerのupdate()メソッドを呼ぶコード\n",
    "    optimizer.update()\n",
    "    "
   ]
  },
  {
   "cell_type": "code",
   "execution_count": 18,
   "metadata": {},
   "outputs": [
    {
     "data": {
      "text/plain": [
       "variable(0.73)"
      ]
     },
     "execution_count": 18,
     "metadata": {},
     "output_type": "execute_result"
    }
   ],
   "source": [
    "X_test_val = np.array([ data for data in X_test], dtype=np.float32)\n",
    "y_test_val = np.array([ data for data in y_test], dtype=np.int32)\n",
    "\n",
    "# フォワードによる予測値の出力\n",
    "y_pred_test = model.predictor(X_test_val)\n",
    "\n",
    "# 精度（accuracyの出力）\n",
    "F.accuracy(y_pred_test, y_test_val)"
   ]
  },
  {
   "cell_type": "markdown",
   "metadata": {},
   "source": [
    "### スクラッチの修正\n",
    "\n",
    "#### 修正案 : layersクラス(複数層を重ねたネットワーククラス)にkearsライクに層を好きなように選んだり、addメソッドで層を追加できるように機能追加。\n"
   ]
  }
 ],
 "metadata": {
  "kernelspec": {
   "display_name": "Python 3",
   "language": "python",
   "name": "python3"
  },
  "language_info": {
   "codemirror_mode": {
    "name": "ipython",
    "version": 3
   },
   "file_extension": ".py",
   "mimetype": "text/x-python",
   "name": "python",
   "nbconvert_exporter": "python",
   "pygments_lexer": "ipython3",
   "version": "3.6.4"
  }
 },
 "nbformat": 4,
 "nbformat_minor": 2
}
