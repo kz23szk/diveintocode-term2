{
 "cells": [
  {
   "cell_type": "markdown",
   "metadata": {},
   "source": [
    "# sprint13-dnn-scratch"
   ]
  },
  {
   "cell_type": "markdown",
   "metadata": {},
   "source": [
    "### DNNとは\n",
    "\n",
    "DeepNeuralNetwork(DNN)とはニューラルネットワークを文字通りdeepに(深く)したものです。\n",
    "\n",
    "ニューラルネットワークが３層（入力層、隠れ層、出力層）だったのに対し、DNNは隠れ層が４つ以上のものを指します。\n",
    "\n",
    "非線形関数の層をより深く組み合わせていくことで認識精度が高まることが経験的に分かっています。\n",
    "\n",
    "一方で層を深くすることでメリットだけでなく**勾配爆発/消失、過学習**といった問題が発生する恐れもあります。\n",
    "\n",
    "- 勾配爆発\n",
    "- 勾配消失\n",
    "\n",
    "    - バックプロパゲーションで勾配を求める際を考える。計算グラフで乗算ノードとなる層（全結合層、畳み込み層など）が複数層ある場合、勾配の値は基本的に-1から1の間の値を取るため前の層に行くほど小さくなってしまう。つまり前の層ほど学習スピードが遅くなってしまい層が深いネットワークでは勾配がほぼゼロになってしまい更新が行われなくなる問題が**勾配消失**と呼ぶ。\n",
    "    また逆に勾配が大きくなりすぎてパラメータが発散していくことを**勾配爆発**問題と呼ぶ。\n",
    "\n",
    "- 過学習\n",
    "    - 層を深くすることで表現力が増すため、学習データに対する精度はどんどん上がっていきます。これが行き過ぎると学習データに最適化されすぎて未学習のデータに対する精度が下がってしまう。このように特定のデータにだけ性能が高く、汎化性能が落ちることを**過学習**と呼びます。\n",
    "    \n",
    "    \n",
    "DNNを構築する際は上記のような問題に対処できるような工夫（ReLUを使う、正則化項）や機能層（ドロップアウト、バッチノーマリゼーション）を採用する必要があります。"
   ]
  },
  {
   "cell_type": "markdown",
   "metadata": {},
   "source": [
    "### データのロード\n",
    "\n",
    "mnistの手書き文字認識問題\n",
    "\n",
    "784ピクセルの値（0-255）から数字（0-9）を分類する。"
   ]
  },
  {
   "cell_type": "code",
   "execution_count": 1,
   "metadata": {},
   "outputs": [],
   "source": [
    "import matplotlib.pyplot as plt\n",
    "import numpy as np\n",
    "import pandas as pd\n",
    "import pandas as pd\n",
    "\n",
    "%matplotlib inline\n",
    "\n",
    "train_df = pd.read_csv(\"train.csv\", nrows=10000)\n",
    "# test_df = pd.read_csv(\"test.csv\", nrows=100)\n",
    "\n",
    "X = train_df.drop('label', axis=1)\n",
    "y = pd.get_dummies(train_df['label'])\n",
    "X = np.array(X)\n",
    "y = np.array(y)\n",
    "\n",
    "\n",
    "from sklearn.model_selection import train_test_split\n",
    "\n",
    "# 訓練とテストデータに分割\n",
    "X_train, X_test, y_train, y_test = train_test_split(X, y, test_size=0.2, random_state=0)"
   ]
  },
  {
   "cell_type": "markdown",
   "metadata": {},
   "source": [
    "### 出力関数　ソフトマックス関数"
   ]
  },
  {
   "cell_type": "code",
   "execution_count": 3,
   "metadata": {},
   "outputs": [],
   "source": [
    "def softmax(x):\n",
    "    return np.exp(x) / np.sum(np.exp(x), axis=1, keepdims=True)"
   ]
  },
  {
   "cell_type": "markdown",
   "metadata": {},
   "source": [
    "### コスト関数"
   ]
  },
  {
   "cell_type": "code",
   "execution_count": 4,
   "metadata": {},
   "outputs": [],
   "source": [
    "def cross_entropy_error(y, y_pred):\n",
    "    \n",
    "    data_size = y.shape[0]\n",
    "\n",
    "    # クロスエントロピー誤差関数　y_predは０になりえるので -inf にならないためにすごく小さい補正値を入れる\n",
    "    cross_entorpy = -np.sum(y * np.log(y_pred + 1e-7))\n",
    "    \n",
    "    error = cross_entorpy  / data_size\n",
    "    return error"
   ]
  },
  {
   "cell_type": "markdown",
   "metadata": {},
   "source": [
    "### 正答率を算出する関数"
   ]
  },
  {
   "cell_type": "code",
   "execution_count": 6,
   "metadata": {},
   "outputs": [],
   "source": [
    "# 正答率を算出する\n",
    "def accuracy_score(X, y, params):\n",
    "    y_pred =  predict(X, params)\n",
    "    y_pred_number = np.argmax(y_pred, axis=1)\n",
    "    \n",
    "    y_label = np.argmax(y, axis=1)\n",
    "    \n",
    "    data_size = X.shape[0]\n",
    "    \n",
    "    correct_count = np.sum([y_label == y_pred_number]) \n",
    "    score = correct_count / data_size * 100\n",
    "    \n",
    "    return round(score, 2)"
   ]
  },
  {
   "cell_type": "code",
   "execution_count": 7,
   "metadata": {},
   "outputs": [],
   "source": [
    "class SoftmaxWithLoss:\n",
    "    def __init__(self):\n",
    "        self.loss = None # 損失関数\n",
    "        self.y = None       # softmaxの出力\n",
    "        self.t = None       # 教師データ（one-hot vector)\n",
    "        \n",
    "    def forward(self, x, t):\n",
    "        self.t = t\n",
    "        self.y = softmax(x)\n",
    "        self.loss = cross_entropy_error(self.y, self.t)\n",
    "        \n",
    "        return self.loss\n",
    "    \n",
    "    def backward(self, dout=1):\n",
    "        batch_size = self.t.shape[0]\n",
    "        dx = (self.y - self.t) / batch_size # delta3に相当\n",
    "        \n",
    "        return dx"
   ]
  },
  {
   "cell_type": "markdown",
   "metadata": {},
   "source": [
    "### アフィン変換層\n",
    "\n",
    "\n",
    "#### Optimizer\n",
    "\n",
    "今回はパラメータ更新に下記の３つのOptimizerを使って更新を行う。\n",
    "\n",
    "#### SGD　（Stochastic Gradient Decent：確率的勾配降下法）\n",
    "\n",
    "Gradient Decentがバッチ処理ですべてのデータを使って更新を行っていました。\n",
    "\n",
    "データが大きくなったり、リアルタイムでデータが更新されるシステムに適さないこともあります。\n",
    "\n",
    "SGDは更新に使うデータ量を全データではなく１つからN個（ミニバッチと呼ばれるかたまり）で処理をする手法です。\n",
    "\n",
    "データの選択（ランダムか順番）やデータ数をいくつにするかはシステムによります。\n",
    "\n",
    "たとえば外れ値が多いデータはデータ数を１にするとそのデータに引っ張られて適切なパラメータにならないためN個のデータを使ったほうがよいでしょう。\n",
    "\n",
    "以下に説明するOptimizerはすべてSGDのやり方（処理数を絞る）を引き継いでおり、パラメータの更新式が異なります。\n",
    "\n",
    "\n",
    "#### AdaGrad\n",
    "\n",
    "AdaGradはAdaptiveに由来し、下記のような式でパラメータを更新します。\n",
    "\n",
    "$h = h + \\frac{\\delta L}{\\delta W} \\cdot \\frac{\\delta L}{\\delta W}$\n",
    "\n",
    "$W = W - \\eta\\frac{1}{\\sqrt{h}}  \\frac{\\delta L}{\\delta W}$\n",
    "\n",
    "学習率をパラメータごと「適応的」に調整することで、勾配が大きいものは更新量は小さく、勾配が小さいものは更新量は大きくすることで\n",
    "\n",
    "\n",
    "\n",
    "#### Adam\n",
    "\n",
    "Adamは上述のAdaGradとMomentumを融合したものです。\n",
    "\n",
    "Momentumはボールが地面を転がるときの空気抵抗や摩擦抵抗で徐々に減速していくようにパラメータを更新していくため、SGDよりジグザグ度合いが軽減されて結果的にすばやく収束することができます。\n",
    "\n",
    "更新式は下記のようになっており$\\alpha$は摩擦係数（速度を減衰させるもの）を表します。\n",
    "\n",
    "$v = \\alpha v -\\eta \\frac{\\delta L}{\\delta W}$\n",
    "\n",
    "$W = W + v$\n",
    "\n",
    "\n",
    "MomentumとAdaGradを組み合わせることで収束スピードも早く、各パラメータの更新量も細かく調整することができます。\n",
    "\n",
    "\n",
    "### Optimizerの実装\n",
    "\n",
    "下記ではAffineレイヤの更新をSGD,AdaGrad,Adamと切り替えられるように実装しています\n",
    "\n"
   ]
  },
  {
   "cell_type": "code",
   "execution_count": 8,
   "metadata": {},
   "outputs": [],
   "source": [
    "class Affine:\n",
    "    def __init__(self, W, b, params= {}):\n",
    "        self.W = W\n",
    "        self.b = b\n",
    "        self.x = None\n",
    "        # パラメータの微分値\n",
    "        self.dW = None\n",
    "        self.db = None\n",
    "        # 更新式のスイッチング\n",
    "        self.lr = params['lr']\n",
    "        \n",
    "        # optimizeメソッドを\n",
    "        if params['optimizer']=='sgd':\n",
    "            self.optimize = self.update_sgd\n",
    "        elif params['optimizer'] == 'adagrad':\n",
    "            self.h = np.zeros_like(W)\n",
    "            self.optimize = self.update_adagrad\n",
    "        else: # params['optimizer'] == 'adam':\n",
    "            self.m = np.zeros_like(W)\n",
    "            self.v = np.zeros_like(W)\n",
    "            self.beta1 = 0.9\n",
    "            self.beta2 = 0.999\n",
    "            self.optimize = self.update_adam\n",
    "        \n",
    "    def forward(self, x):\n",
    "        self.x = x\n",
    "        out = np.dot(x, self.W) + self.b\n",
    "\n",
    "        return out\n",
    "    \n",
    "    def backward(self, dout=1):\n",
    "        dx = np.dot(dout, self.W.T)\n",
    "        self.dW = np.dot(self.x.T, dout)\n",
    "        self.db = np.sum(dout, axis=0)\n",
    "        \n",
    "        return dx\n",
    "    \n",
    "    def update_sgd(self):\n",
    "        self.W -= self.lr * self.dW\n",
    "        self.b -= self.lr * self.db\n",
    "    \n",
    "    # adagrad 少しずつ更新量が減っていく\n",
    "    def update_adagrad(self, lr = 0.01):\n",
    "        self.h += self.dW ** 2\n",
    "        self.W -= self.lr * self.dW / (np.sqrt(self.h) + 1e-7)\n",
    "        self.b -= self.lr * self.db\n",
    "        \n",
    "    \n",
    "    def update_adam(self, lr = 0.01):\n",
    "        self.m = self.beta1 * self.m + (1- self.beta1) * self.dW\n",
    "        self.v = self.beta2 * self.v + (1- self.beta2) * (self.dW * self.dW)\n",
    "        \n",
    "        m_hat = self.m / (1 - self.beta1)\n",
    "        v_hat = self.v / (1 - self.beta2)\n",
    "        \n",
    "        self.W -= self.lr * m_hat / (np.sqrt(v_hat) + 1e-8)\n",
    "        self.b -= self.lr * self.db\n",
    "        "
   ]
  },
  {
   "cell_type": "markdown",
   "metadata": {},
   "source": [
    "### 活性化関数層\n"
   ]
  },
  {
   "cell_type": "code",
   "execution_count": 9,
   "metadata": {},
   "outputs": [],
   "source": [
    "class Activation:\n",
    "    '''\n",
    "    TODO: 活性化関数 func_nameで切り替えられるにしたい\n",
    "    しかし毎回IF文で分岐させることになるので一旦はtanhのみにする\n",
    "    'tanh'\n",
    "    'sigmoid'\n",
    "    'relu'\n",
    "    '''\n",
    "    def __init__(self):\n",
    "        #self.out = None\n",
    "        self.mask = None\n",
    "     \n",
    "    def forward(self, x):\n",
    "        self.mask = (x <= 0)\n",
    "        out = x.copy()\n",
    "        out[self.mask] = 0\n",
    "        \n",
    "        return out\n",
    "    \n",
    "    def backward(self, dout):\n",
    "        dout[self.mask] = 0\n",
    "        dx = dout\n",
    "        \n",
    "        return dx\n",
    "\n",
    "    # tanh \n",
    "#     def forward(self, x):\n",
    "#         out = np.tanh(x)\n",
    "#         self.out = out\n",
    "        \n",
    "#         return out\n",
    "    \n",
    "#     def backward(self, dout):\n",
    "#         dx = dout * (1 - np.tanh(dout)**2)\n",
    "        \n",
    "#         return dx\n",
    "        "
   ]
  },
  {
   "cell_type": "markdown",
   "metadata": {},
   "source": [
    "### バッチノーマリゼーション層\n",
    "\n",
    "Batch Normalization層とはフィーチャースケーリングを行うことで\n",
    "\n",
    "効果として、\n",
    "\n",
    "- 学習速度を早める\n",
    "- 初期値にそれほど依存しない\n",
    "- 過学習を抑制する"
   ]
  },
  {
   "cell_type": "code",
   "execution_count": 33,
   "metadata": {},
   "outputs": [],
   "source": [
    "class BatchNorm:\n",
    "    def __init__(self, params):\n",
    "        self.out = None\n",
    "        \n",
    "        self.beta = 0\n",
    "        self.gamma = 1\n",
    "        self.lr = params['lr']\n",
    "        \n",
    "        self.eps = 1e-8\n",
    "        ## ここからパクリ\n",
    "        self.batch_size = None\n",
    "        self.xc = None\n",
    "        self.std = None\n",
    "        self.dgamma = None\n",
    "        self.dbeta = None\n",
    "        self.momentum = 0.9\n",
    "        self.input_shape = None # Conv層の場合は4次元、全結合層の場合は2次元  \n",
    "\n",
    "        # テスト時に使用する平均と分散\n",
    "        self.running_mean = None # running_mean\n",
    "        self.running_var = None # running_var \n",
    "\n",
    "    def forward(self, x, train_flg=True):\n",
    "        self.input_shape = x.shape\n",
    "        if x.ndim != 2:\n",
    "            N, C, H, W = x.shape\n",
    "            x = x.reshape(N, -1)\n",
    "\n",
    "        out = self.__forward(x, train_flg)\n",
    "        \n",
    "        return out.reshape(*self.input_shape)\n",
    "            \n",
    "    def __forward(self, x, train_flg):\n",
    "        if self.running_mean is None:\n",
    "            N, D = x.shape\n",
    "            self.running_mean = np.zeros(D)\n",
    "            self.running_var = np.zeros(D)\n",
    "                        \n",
    "        if train_flg:\n",
    "            mu = x.mean(axis=0)\n",
    "            xc = x - mu\n",
    "            var = np.mean(xc**2, axis=0)\n",
    "            std = np.sqrt(var + 10e-7)\n",
    "            xn = xc / std\n",
    "            \n",
    "            self.batch_size = x.shape[0]\n",
    "            self.xc = xc\n",
    "            self.xn = xn\n",
    "            self.std = std\n",
    "            self.running_mean = self.momentum * self.running_mean + (1-self.momentum) * mu\n",
    "            self.running_var = self.momentum * self.running_var + (1-self.momentum) * var            \n",
    "        else:\n",
    "            xc = x - self.running_mean\n",
    "            xn = xc / ((np.sqrt(self.running_var + 10e-7)))\n",
    "            \n",
    "        out = self.gamma * xn + self.beta \n",
    "        return out\n",
    "\n",
    "    def backward(self, dout):\n",
    "        if dout.ndim != 2:\n",
    "            N, C, H, W = dout.shape\n",
    "            dout = dout.reshape(N, -1)\n",
    "\n",
    "        dx = self.__backward(dout)\n",
    "\n",
    "        dx = dx.reshape(*self.input_shape)\n",
    "        return dx\n",
    "\n",
    "    def __backward(self, dout):\n",
    "        dbeta = dout.sum(axis=0)\n",
    "        dgamma = np.sum(self.xn * dout, axis=0)\n",
    "        dxn = self.gamma * dout\n",
    "        dxc = dxn / self.std\n",
    "        dstd = -np.sum((dxn * self.xc) / (self.std * self.std), axis=0)\n",
    "        dvar = 0.5 * dstd / self.std\n",
    "        dxc += (2.0 / self.batch_size) * self.xc * dvar\n",
    "        dmu = np.sum(dxc, axis=0)\n",
    "        dx = dxc - dmu / self.batch_size\n",
    "        \n",
    "        self.dgamma = dgamma\n",
    "        self.dbeta = dbeta\n",
    "        \n",
    "        return dx\n",
    "    \n",
    "    def optimize(self):\n",
    "        self.gamma -= self.lr * self.dgamma\n",
    "        self.beta -= self.lr * self.dbeta\n",
    "        "
   ]
  },
  {
   "cell_type": "markdown",
   "metadata": {},
   "source": [
    "### ドロップアウト層\n",
    "\n",
    "これまでの層は出力は必ず次の層の入力として使われていました。\n",
    "\n",
    "ドロップアウト層は確率的に出力をゼロにする、つまりノードを消失させます。\n",
    "\n",
    "これにより過学習を防ぎ、汎化性能を高めることができる。\n",
    "\n",
    "更新ごとに消失させるノードを変更できます。\n",
    "\n",
    "\n"
   ]
  },
  {
   "cell_type": "code",
   "execution_count": 23,
   "metadata": {},
   "outputs": [],
   "source": [
    "class Dropout:\n",
    "    \n",
    "    def __init__(self, dropout_ratio=0.5):\n",
    "        self.dropout_ratio = dropout_ratio\n",
    "        self.mask = None\n",
    "    \n",
    "    \n",
    "    def forward(self, x, train_flg=True):\n",
    "        if train_flg :\n",
    "            self.mask = np.random.rand(*x.shape) > self.dropout_ratio\n",
    "            return x * self.mask\n",
    "        else:\n",
    "            return x * (1 - self.dropout_ratio)\n",
    "    \n",
    "    \n",
    "    def backward(self, dout):\n",
    "        return dout * self.mask"
   ]
  },
  {
   "cell_type": "code",
   "execution_count": 11,
   "metadata": {},
   "outputs": [],
   "source": [
    "unit_size_list = [784]\n",
    "unit_size_list.extend([100, 100])\n",
    "unit_size_list.append(10)"
   ]
  },
  {
   "cell_type": "code",
   "execution_count": 12,
   "metadata": {},
   "outputs": [
    {
     "data": {
      "text/plain": [
       "[784, 100, 100, 10]"
      ]
     },
     "execution_count": 12,
     "metadata": {},
     "output_type": "execute_result"
    }
   ],
   "source": [
    "unit_size_list"
   ]
  },
  {
   "cell_type": "markdown",
   "metadata": {},
   "source": [
    "### 複数層を束ねるクラス(ネットワーククラス)\n",
    "\n",
    "### 重みの初期化\n",
    "\n",
    "#### ガウス初期化\n",
    "\n",
    "標準偏差１のガウス分布で初期化してしまうと各層での出力が1や０付近に分布することになり、\n",
    "勾配消失・爆発の問題が発生しやすくなってしまいます。\n",
    "\n",
    "この問題を防ぐために平均０、標準偏差0.01のガウス分布で初期化したものがガウスの初期化です。\n",
    "\n",
    "ガウス分布での初期化はシンプルですが、もとの値が０．５付近に集中するため\n",
    "\n",
    "層を深くしても、同じような出力を出すため表現力という面で問題があります。\n",
    "\n",
    "#### Xavier\n",
    "\n",
    "前層のノード数がnのとき${\\sqrt{\\frac {1}{n}}}$を標準偏差とするガウス分布に基づいて初期化するものです。\n",
    "\n",
    "この初期化でガウス初期化よりは広がりをもった分布になるため表現力を確保できているといえます。\n",
    "\n",
    "#### He\n",
    "\n",
    "前層のノード数がnのとき${\\sqrt{\\frac {2}{n}}}$を標準偏差とするガウス分布に基づいて初期化するものです。\n",
    "\n",
    "Xavierと比較すると分子が２倍になっているだけで何が変わるのでしょうか？\n",
    "\n",
    "活性化関数がReLu関数を採用した場合、シグモイド関数やtanh関数は負の値にも分布しているのに対し、ReLu関数は正の値しか返しません。\n",
    "\n",
    "このためシグモイド関数やtanh関数と同じ広がりを持たせるために分布を２倍させているのです。\n",
    "\n",
    "一般的に活性化関数がシグモイド関数やtanh関数の場合はXavier、ReLu関数の場合はHeを使うのがベストプラクティスとして知られています。\n",
    "\n",
    "\n",
    "### 実装\n",
    "\n",
    "実装は下記コードの１5−２3行目にあります。\n"
   ]
  },
  {
   "cell_type": "code",
   "execution_count": 38,
   "metadata": {},
   "outputs": [],
   "source": [
    "from collections import OrderedDict\n",
    "\n",
    "class Layers:\n",
    "    def __init__(self, input_size, hidden_layer_list, output_size, params):\n",
    "        unit_size_list = [input_size]\n",
    "        unit_size_list.extend(hidden_layer_list)\n",
    "        unit_size_list.append(output_size)\n",
    "        \n",
    "        self.params = {}\n",
    "        \n",
    "        # レイヤの生成\n",
    "        self.layers = OrderedDict()\n",
    "        \n",
    "        for i in range(1, len(unit_size_list)):\n",
    "            # 重みの初期化\n",
    "            init_W = np.random.randn(unit_size_list[i-1], unit_size_list[i])\n",
    "            init_b = np.zeros([1, unit_size_list[i]])\n",
    "            if params['init'] == 'gauss':\n",
    "                init_W *= 0.01\n",
    "            elif params['init'] == 'xavier':\n",
    "                init_W /= np.sqrt(unit_size_list[i-1])\n",
    "            else: # He\n",
    "                init_W = init_W / np.sqrt(unit_size_list[i-1]) * np.sqrt(2) \n",
    "                \n",
    "            # アフィン変換層（Wx + b）を追加する\n",
    "            self.layers['Affine' + str(i)] = Affine(init_W, init_b, params)\n",
    "            \n",
    "            # 最終層以外はバッチノーマリゼーション層と活性化関数層を追加する\n",
    "            if i < (len(unit_size_list)-1):\n",
    "                if params['batch_norm'] == True:\n",
    "                    self.layers['BatchNorm' + str(i)] = BatchNorm(params)\n",
    "                self.layers['Active' + str(i)] = Activation()\n",
    "                if params['dropout_ratio'] > .0:\n",
    "                    print(params['dropout_ratio'])\n",
    "                    self.layers['Dropout' + str(i)] = Dropout(dropout_ratio=params['dropout_ratio'])\n",
    "        \n",
    "        self.lastLayer = SoftmaxWithLoss()\n",
    "        \n",
    "        self.params['hidden_layer_num'] = len(unit_size_list)-1\n",
    "        \n",
    "    def predict(self, x, train_flg=True):\n",
    "        # forwardを繰り返す\n",
    "        # ソフトマックスを通さなくても答えは出るのでこれで予測とする \n",
    "        # argmaxでラベルを取れる\n",
    "        for layer in self.layers.values():\n",
    "            x =layer.forward(x)\n",
    "\n",
    "        return x\n",
    "    \n",
    "    # 予測の際はこちらを使う\n",
    "    def predict_after_trained(self, x):\n",
    "        for layer in self.layers.values():\n",
    "            if layer.__class__.__name__ in ['Dropout', 'BatchNorm']:\n",
    "                x =layer.forward(x, train_flg=False)\n",
    "            else:\n",
    "                x =layer.forward(x)\n",
    "\n",
    "        return x\n",
    "\n",
    "    def accuracy(self, x, t):\n",
    "        # 正答率を小数点第二桁で出力する\n",
    "        y_pred = self.predict_after_trained(x)\n",
    "        y_pred = np.argmax(y_pred, axis=1)\n",
    "        y_true = np.argmax(t, axis=1)\n",
    "        data_size = x.shape[0]\n",
    "\n",
    "        correct_count = np.sum([y_true == y_pred]) \n",
    "        score = correct_count / data_size * 100\n",
    "\n",
    "        return round(score, 2)\n",
    "    \n",
    "    def loss(self, x, t):\n",
    "        y = self.predict(x)\n",
    "        \n",
    "        return self.lastLayer.forward(y, t)\n",
    "    \n",
    "    \n",
    "    def optimize(self, x, t):\n",
    "        \n",
    "        # forward \n",
    "        self.loss(x, t)\n",
    "        \n",
    "        # backward\n",
    "        dout = self.lastLayer.backward(1)\n",
    "        layers = list(self.layers.values())\n",
    "        layers.reverse()\n",
    "        for layer in layers:\n",
    "            dout = layer.backward(dout)\n",
    "            \n",
    "        # optimizeメソッドがある層は更新を行う\n",
    "        # AffineとBatchNorm層のみ行うはず\n",
    "        for layer in self.layers.values():\n",
    "            if hasattr(layer, \"optimize\"):\n",
    "                layer.optimize()\n",
    "            "
   ]
  },
  {
   "cell_type": "code",
   "execution_count": 81,
   "metadata": {},
   "outputs": [],
   "source": [
    "from sklearn.model_selection import train_test_split\n",
    "\n",
    "\n",
    "class DNN:\n",
    "    def __init__(self, init='gauss', iteration = 500, lr = 0.05,  lam = 0.01, \n",
    "                 batch_mode = 'mini',\n",
    "                 batch_size_rate = 0.1, hidden_layer_list = [5], optimizer='sgd',\n",
    "                 batch_norm=False, dropout_ratio=0.0):\n",
    "        \"\"\" ハイパーパラメータ解説\n",
    "        init: 初期化方法\n",
    "            'he' : \n",
    "            'gauss' \n",
    "            'xavier'\n",
    "        lr : 学習率\n",
    "        lam : 正則化項の率\n",
    "        batch_size: バッチサイズ\n",
    "            'batch' : フルサイズ\n",
    "            'mini' 0< x< 1: フルサイズ割合 0.1なら全体の0.1サイズ使用する\n",
    "            'online' : オンライン学習　１データのみ\n",
    "        hidden_layer_list : 隠れ層のリスト、層のユニットをリストで入力　例[2, 3]　ユニット数２、ユニット数３の隠れ層\n",
    "        optimizer : 勾配の更新手法\n",
    "            'sgd' : 確率的勾配降下法\n",
    "            'adam': \n",
    "            'adagrad':\n",
    "        \"\"\"\n",
    "        self.params = {}\n",
    "        self.params['iteration'] = iteration\n",
    "        self.params['init'] = init\n",
    "        self.params['lr'] = lr\n",
    "        self.params['lam'] = lam\n",
    "        self.params['batch_mode'] = batch_mode # データ数が決まったらそれに基づいて変更する\n",
    "        self.params['batch_size_rate'] = batch_size_rate # ミニバッチ法のときのみ使用する\n",
    "        self.params['hidden_layer_list'] = hidden_layer_list\n",
    "        self.params['optimizer'] = optimizer\n",
    "        self.params['batch_norm'] = batch_norm\n",
    "        self.params['dropout_ratio'] = dropout_ratio\n",
    "        \n",
    "    def train(self, X, y, params={}):\n",
    "        # 入力パラメータがあれば更新する\n",
    "        for key in params:\n",
    "                self.params[key] = params[key]\n",
    "        \n",
    "        # 正規化　必要？\n",
    "        X = X / 255.0\n",
    "        \n",
    "        # 訓練とテストデータに分割\n",
    "        X_train, X_test, y_train, y_test = \\\n",
    "            train_test_split(X, y, test_size=0.2, random_state=0)\n",
    "\n",
    "        self.params['data_size'] = X_train.shape[0]\n",
    "        self.params['input_size'] = X_train.shape[1]\n",
    "        self.params['output_size'] = y_train.shape[1]\n",
    "        \n",
    "        # 学習率を出すためのスコア\n",
    "        past_train_costs = []\n",
    "        past_test_costs = []\n",
    "        past_train_accuracy = []\n",
    "        past_test_accuracy = []\n",
    "        \n",
    "        # 初期化\n",
    "        # 重み初期化\n",
    "        # バッチサイズの設定\n",
    "        if self.params['batch_mode'] == 'batch':\n",
    "            self.params['batch_size'] = self.params['data_size']\n",
    "        elif self.params['batch_mode'] == 'mini':\n",
    "            self.params['batch_size'] = int(self.params['data_size']  * self.params['batch_size_rate'] ) \n",
    "        else:\n",
    "            self.params['batch_size'] = 1\n",
    "        # 隠れ層やレイヤーインスタンス生成\n",
    "        self.params['layer'] = Layers(self.params['input_size'],\n",
    "                                      self.params['hidden_layer_list'],\n",
    "                                      self.params['output_size'],\n",
    "                                      self.params)\n",
    "        \n",
    "        \n",
    "        # batchnormalizationの層の組み方も考えておくとよい\n",
    "        print(\"data: {} batch : {}\".format(self.params['data_size'],self.params['batch_size']))\n",
    "        epoch = int(self.params['data_size'] / self.params['batch_size'])\n",
    "        \n",
    "        for i in range(self.params['iteration']):\n",
    "            # 学習に使用するデータをサンプリング\n",
    "            batch_mask = np.random.choice(self.params['data_size'], self.params['batch_size'])\n",
    "            X_batch, y_batch = X_train[batch_mask], y_train[batch_mask]\n",
    "            \n",
    "            \n",
    "            # 誤差逆伝播法によって勾配を求め、値を更新\n",
    "            self.params['layer'].optimize(X_batch, y_batch)\n",
    "            \n",
    "            if i % epoch == 0:\n",
    "                # 1エポックごとに正答率とコストを算出して保存する\n",
    "                train_acc = self.params['layer'].accuracy(X_train, y_train)\n",
    "                test_acc = self.params['layer'].accuracy(X_test, y_test)\n",
    "                \n",
    "                train_loss = self.params['layer'].loss(X_train, y_train)\n",
    "                test_loss = self.params['layer'].loss(X_test, y_test)\n",
    "                \n",
    "                past_train_accuracy.append(train_acc)\n",
    "                past_test_accuracy.append(test_acc)\n",
    "                past_train_costs.append(train_loss)\n",
    "                past_test_costs.append(test_loss)\n",
    "            \n",
    "        return past_train_accuracy, past_test_accuracy, past_train_costs, past_test_costs \n",
    "    \n",
    "    def plot_learning_curve(self, X, y, metrics='acc', params={}): \n",
    "        past_train_accuracy, past_test_accuracy, past_train_costs, past_test_costs = self.train(X, y, params)\n",
    "        plt.figure(figsize=(6,4))\n",
    "\n",
    "        if metrics == 'cost':\n",
    "            plt.plot(past_train_costs, color='orange', label='train')\n",
    "            plt.plot(past_test_costs, color='lime', label='test')\n",
    "            plt.ylabel(\"cost\", fontsize=15)\n",
    "            print(\"last train cost is {}\".format(past_train_costs[-1]))\n",
    "            print(\"last test cost is {}\".format(past_test_costs[-1]))\n",
    "        else:\n",
    "            plt.plot(past_train_accuracy, color='orange', label='train')\n",
    "            plt.plot(past_test_accuracy, color='lime', label='test')\n",
    "            plt.ylabel(\"accuracy\", fontsize=15)\n",
    "            print(\"last train accuracy is {}\".format(past_train_accuracy[-1]))\n",
    "            print(\"last test accuracy is {}\".format(past_test_accuracy[-1]))\n",
    "            plt.ylim(-0.5, 100.5)\n",
    "\n",
    "        plt.legend()\n",
    "        plt.title('Learning Curve', fontsize=20)\n",
    "        plt.xlabel(\"iteration[epoch]\", fontsize=15)\n",
    "        \n",
    "    # 現在のパラメータで予測値を確率かラベルで出力する。\n",
    "    def predict(self, X, probability=False):\n",
    "        predict = self.params['layer'].predict(X)\n",
    "        predict_proba = softmax(predict)\n",
    "        if probability== True:\n",
    "            return predict_proba\n",
    "        else:\n",
    "            return np.argmax(predict_proba, axis=1)\n",
    "        "
   ]
  },
  {
   "cell_type": "code",
   "execution_count": 82,
   "metadata": {},
   "outputs": [
    {
     "name": "stdout",
     "output_type": "stream",
     "text": [
      "data: 8000 batch : 800\n",
      "last train accuracy is 56.78\n",
      "last test accuracy is 52.9\n"
     ]
    },
    {
     "data": {
      "image/png": "[encoded data removed]",
      "text/plain": [
       "<matplotlib.figure.Figure at 0x110e3dd30>"
      ]
     },
     "metadata": {},
     "output_type": "display_data"
    }
   ],
   "source": [
    "model = DNN(iteration=100,\n",
    "                       optimizer='adam',\n",
    "                       batch_mode='mini',\n",
    "                       hidden_layer_list = [100, 100, 100, 100, 100, 100],\n",
    "                       batch_norm=True, \n",
    "                       dropout_ratio=0.0,\n",
    "                       init='he',\n",
    "                       lr=0.007\n",
    "           )\n",
    "\n",
    "model.plot_learning_curve(X,y, 'acc', params)"
   ]
  },
  {
   "cell_type": "markdown",
   "metadata": {},
   "source": [
    "### Dropout層の効果\n",
    "\n",
    "dropout層あり（dropout_ratio=0.5）となしで比較すると、\n",
    "ありの場合は早期に訓練データでのスコアが１００に近くなってしまい、検証データとの差が開いたままです。\n",
    "なしの場合は訓練データと検証データとの差が少ないことが見て取れます。\n",
    "\n",
    "dropout層を入れることで過学習を抑える効果があることが分かりました。\n",
    "\n",
    "### Dropout層あり"
   ]
  },
  {
   "cell_type": "code",
   "execution_count": 44,
   "metadata": {},
   "outputs": [
    {
     "name": "stdout",
     "output_type": "stream",
     "text": [
      "data: 8000 batch : 800\n",
      "last train accuracy is 100.0\n",
      "last test accuracy is 95.7\n"
     ]
    },
    {
     "data": {
      "image/png": "[encoded data removed]",
      "text/plain": [
       "<matplotlib.figure.Figure at 0x1a3939f6a0>"
      ]
     },
     "metadata": {},
     "output_type": "display_data"
    }
   ],
   "source": [
    "model = DNN(iteration=200,\n",
    "                       optimizer='adam',\n",
    "                       batch_mode='mini',\n",
    "                       hidden_layer_list = [100, 100, 100, 100, 100, 100],\n",
    "                       batch_norm=True, \n",
    "                       dropout_ratio=0.0,\n",
    "                       init='he',\n",
    "                       lr=0.007\n",
    "           )\n",
    "\n",
    "model.plot_learning_curve(X,y, 'acc', params)"
   ]
  },
  {
   "cell_type": "markdown",
   "metadata": {},
   "source": [
    "### Dropout層なし"
   ]
  },
  {
   "cell_type": "code",
   "execution_count": 43,
   "metadata": {},
   "outputs": [
    {
     "name": "stdout",
     "output_type": "stream",
     "text": [
      "data: 8000 batch : 800\n",
      "last train accuracy is 90.19\n",
      "last test accuracy is 87.95\n"
     ]
    },
    {
     "data": {
      "image/png": "[encoded data removed]",
      "text/plain": [
       "<matplotlib.figure.Figure at 0x1a287c1550>"
      ]
     },
     "metadata": {},
     "output_type": "display_data"
    }
   ],
   "source": [
    "model = DNN(iteration=200,\n",
    "                       optimizer='adam',\n",
    "                       hidden_layer_list = [100, 100, 100, 100, 100, 100],\n",
    "                       batch_norm=True, \n",
    "                       dropout_ratio=0.5\n",
    "           )\n",
    "\n",
    "params = {'optimizer': 'adam',\n",
    "         'batch_mode' : 'mini',\n",
    "         'init': 'he',\n",
    "         'lr': 0.007}\n",
    "\n",
    "model.plot_learning_curve(X,y, 'acc', params)"
   ]
  },
  {
   "cell_type": "markdown",
   "metadata": {},
   "source": [
    "### BatchNormalization層\n",
    "\n",
    "BatchNormalization層の効果を確認するために、隠れ層の総数を多めにとって試した。\n",
    "\n",
    "ありとなしで比較するとありの方が学習速度が早いことが分かる。"
   ]
  },
  {
   "cell_type": "markdown",
   "metadata": {},
   "source": [
    "### BatchNormalization層あり"
   ]
  },
  {
   "cell_type": "code",
   "execution_count": 80,
   "metadata": {},
   "outputs": [
    {
     "name": "stdout",
     "output_type": "stream",
     "text": [
      "data: 8000 batch : 800\n",
      "last train accuracy is 17.14\n",
      "last test accuracy is 18.8\n"
     ]
    },
    {
     "data": {
      "image/png": "[encoded data removed]",
      "text/plain": [
       "<matplotlib.figure.Figure at 0x115d12908>"
      ]
     },
     "metadata": {},
     "output_type": "display_data"
    }
   ],
   "source": [
    "model = DNN(iteration=400,\n",
    "                       optimizer='sgd',\n",
    "                       hidden_layer_list =  [10, 10, 10, 10, 10, 10, 10, 10, 10, 10],\n",
    "                       batch_norm=False, \n",
    "                       dropout_ratio=0.0\n",
    "           )\n",
    "\n",
    "params = {'optimizer': 'sgd',\n",
    "         'batch_mode' : 'mini',\n",
    "         'init': 'he',\n",
    "         'lr': 0.007}\n",
    "\n",
    "model.plot_learning_curve(X,y, 'acc', params)"
   ]
  },
  {
   "cell_type": "markdown",
   "metadata": {},
   "source": [
    "### BatchNormalization層なし"
   ]
  },
  {
   "cell_type": "code",
   "execution_count": 79,
   "metadata": {},
   "outputs": [
    {
     "name": "stdout",
     "output_type": "stream",
     "text": [
      "data: 8000 batch : 800\n",
      "last train accuracy is 48.98\n",
      "last test accuracy is 45.7\n"
     ]
    },
    {
     "data": {
      "image/png": "[encoded data removed]",
      "text/plain": [
       "<matplotlib.figure.Figure at 0x11479a9b0>"
      ]
     },
     "metadata": {},
     "output_type": "display_data"
    }
   ],
   "source": [
    "model = DNN(iteration=400,\n",
    "                       optimizer='sgd',\n",
    "                       hidden_layer_list = [10, 10, 10, 10, 10, 10, 10, 10, 10, 10],\n",
    "                       batch_norm=True,\n",
    "                       dropout_ratio=0.0\n",
    "           )\n",
    "\n",
    "params = {'optimizer': 'sgd',\n",
    "         'batch_mode' : 'mini',\n",
    "         'init': 'he',\n",
    "         'lr': 0.007}\n",
    "\n",
    "model.plot_learning_curve(X,y, 'acc', params)"
   ]
  },
  {
   "cell_type": "markdown",
   "metadata": {},
   "source": [
    "### 層を深くする\n",
    "\n",
    "隠れ層の層数はhidden_layer_listで変更できるように実装した。\n",
    "\n",
    "層を３，４，５と増やした結果を描画している。\n",
    "\n",
    "今回は層を深くしたからと言って顕著な伸びは見られなかったが、\n",
    "\n",
    "より多クラスな分類をするときやより精度を出したい場合は有効だと思われる。"
   ]
  },
  {
   "cell_type": "markdown",
   "metadata": {},
   "source": [
    "### ３層"
   ]
  },
  {
   "cell_type": "code",
   "execution_count": 70,
   "metadata": {},
   "outputs": [
    {
     "name": "stdout",
     "output_type": "stream",
     "text": [
      "data: 8000 batch : 800\n",
      "last train accuracy is 99.91\n",
      "last test accuracy is 93.25\n"
     ]
    },
    {
     "data": {
      "image/png": "[encoded data removed]",
      "text/plain": [
       "<matplotlib.figure.Figure at 0x1a393da438>"
      ]
     },
     "metadata": {},
     "output_type": "display_data"
    }
   ],
   "source": [
    "model = DNN(iteration=500,\n",
    "                       optimizer='adam',\n",
    "                       batch_mode='mini',\n",
    "                       hidden_layer_list = [32],\n",
    "                       batch_norm=True, \n",
    "                       dropout_ratio=0.0,\n",
    "                       init='he',\n",
    "                       lr=0.02\n",
    "           )\n",
    "\n",
    "model.plot_learning_curve(X,y, 'acc', params)"
   ]
  },
  {
   "cell_type": "markdown",
   "metadata": {},
   "source": [
    "### 4層"
   ]
  },
  {
   "cell_type": "code",
   "execution_count": 71,
   "metadata": {},
   "outputs": [
    {
     "name": "stdout",
     "output_type": "stream",
     "text": [
      "data: 8000 batch : 800\n",
      "last train accuracy is 100.0\n",
      "last test accuracy is 93.9\n"
     ]
    },
    {
     "data": {
      "image/png": "[encoded data removed]",
      "text/plain": [
       "<matplotlib.figure.Figure at 0x1a292b84a8>"
      ]
     },
     "metadata": {},
     "output_type": "display_data"
    }
   ],
   "source": [
    "model = DNN(iteration=500,\n",
    "                       optimizer='adam',\n",
    "                       batch_mode='mini',\n",
    "                       hidden_layer_list = [32, 32],\n",
    "                       batch_norm=True, \n",
    "                       dropout_ratio=0.0,\n",
    "                       init='he',\n",
    "                       lr=0.02\n",
    "           )\n",
    "\n",
    "model.plot_learning_curve(X,y, 'acc', params)"
   ]
  },
  {
   "cell_type": "markdown",
   "metadata": {},
   "source": [
    "### 5層"
   ]
  },
  {
   "cell_type": "code",
   "execution_count": 72,
   "metadata": {},
   "outputs": [
    {
     "name": "stdout",
     "output_type": "stream",
     "text": [
      "data: 8000 batch : 800\n",
      "last train accuracy is 100.0\n",
      "last test accuracy is 95.15\n"
     ]
    },
    {
     "data": {
      "image/png": "[encoded data removed]",
      "text/plain": [
       "<matplotlib.figure.Figure at 0x1a292b88d0>"
      ]
     },
     "metadata": {},
     "output_type": "display_data"
    }
   ],
   "source": [
    "model = DNN(iteration=500,\n",
    "                       optimizer='adam',\n",
    "                       batch_mode='mini',\n",
    "                       hidden_layer_list = [32, 32, 32],\n",
    "                       batch_norm=True, \n",
    "                       dropout_ratio=0.0,\n",
    "                       init='he',\n",
    "                       lr=0.02\n",
    "           )\n",
    "\n",
    "model.plot_learning_curve(X,y, 'acc', params)"
   ]
  },
  {
   "cell_type": "markdown",
   "metadata": {},
   "source": [
    "### 提出用ファイル作成"
   ]
  },
  {
   "cell_type": "code",
   "execution_count": 21,
   "metadata": {},
   "outputs": [],
   "source": [
    "# test_df = pd.read_csv(\"test.csv\")\n",
    "\n",
    "# X_sub = test_df\n",
    "# X_sub = np.array(X_sub)\n",
    "\n",
    "# Y_pred = model.predict(X_sub)\n",
    "\n",
    "# submission = pd.DataFrame({\n",
    "#        \"ImageId\": np.array(test_df.index) + 1,\n",
    "#        \"Label\": Y_pred\n",
    "#    })\n",
    "\n",
    "# submission.to_csv(\"./submission_001.csv\", index=False)"
   ]
  }
 ],
 "metadata": {
  "kernelspec": {
   "display_name": "Python 3",
   "language": "python",
   "name": "python3"
  },
  "language_info": {
   "codemirror_mode": {
    "name": "ipython",
    "version": 3
   },
   "file_extension": ".py",
   "mimetype": "text/x-python",
   "name": "python",
   "nbconvert_exporter": "python",
   "pygments_lexer": "ipython3",
   "version": "3.6.4"
  }
 },
 "nbformat": 4,
 "nbformat_minor": 2
}
