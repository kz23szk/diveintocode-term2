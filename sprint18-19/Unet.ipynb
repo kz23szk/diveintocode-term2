{
 "cells": [
  {
   "cell_type": "markdown",
   "metadata": {
    "_cell_guid": "e61ef2d8-f315-4f7f-b07e-1de0f4e8441a",
    "_uuid": "1677fddbb95f7545b6540e9201f3339a0fdbfc5d"
   },
   "source": [
    "# Intro\n",
    "Hello! This rather quick and dirty kernel shows how to get started on segmenting nuclei using a neural network in Keras. \n",
    "\n",
    "The architecture used is the so-called [U-Net](https://arxiv.org/abs/1505.04597), which is very common for image segmentation problems such as this. I believe they also have a tendency to work quite well even on small datasets.\n",
    "\n",
    "Let's get started importing everything we need!"
   ]
  },
  {
   "cell_type": "code",
   "execution_count": 1,
   "metadata": {
    "_cell_guid": "c332549b-8d23-4bb5-8497-e7a8eb8b21d2",
    "_uuid": "5c38504af3a84bee68c66d3cde74443c58df422f"
   },
   "outputs": [
    {
     "name": "stderr",
     "output_type": "stream",
     "text": [
      "/Users/kzfm/.pyenv/versions/anaconda3-5.1.0/lib/python3.6/site-packages/h5py/__init__.py:36: FutureWarning: Conversion of the second argument of issubdtype from `float` to `np.floating` is deprecated. In future, it will be treated as `np.float64 == np.dtype(float).type`.\n",
      "  from ._conv import register_converters as _register_converters\n",
      "Using TensorFlow backend.\n"
     ]
    }
   ],
   "source": [
    "import os\n",
    "import sys\n",
    "import random\n",
    "import warnings\n",
    "\n",
    "import numpy as np\n",
    "import pandas as pd\n",
    "\n",
    "import matplotlib.pyplot as plt\n",
    "\n",
    "from tqdm import tqdm\n",
    "from itertools import chain\n",
    "from skimage.io import imread, imshow, imread_collection, concatenate_images\n",
    "from skimage.transform import resize\n",
    "from skimage.morphology import label\n",
    "\n",
    "from keras.models import Model, load_model\n",
    "from keras.layers import Input\n",
    "from keras.layers.core import Lambda\n",
    "from keras.layers.convolutional import Conv2D, Conv2DTranspose\n",
    "from keras.layers.pooling import MaxPooling2D\n",
    "from keras.layers.merge import concatenate\n",
    "from keras.callbacks import EarlyStopping, ModelCheckpoint\n",
    "from keras import backend as K\n",
    "\n",
    "import tensorflow as tf\n",
    "\n",
    "# Set some parameters\n",
    "IMG_WIDTH = 128\n",
    "IMG_HEIGHT = 128\n",
    "IMG_CHANNELS = 3\n",
    "TRAIN_PATH = '../input/stage1_train/'\n",
    "TEST_PATH = '../input/stage1_test/'\n",
    "\n",
    "warnings.filterwarnings('ignore', category=UserWarning, module='skimage')\n",
    "seed = 42\n",
    "random.seed = seed\n",
    "np.random.seed = seed"
   ]
  },
  {
   "cell_type": "code",
   "execution_count": 2,
   "metadata": {
    "_cell_guid": "ffa0caf0-2d1b-40f2-865b-8e6db88526b6",
    "_uuid": "3fb9d6530fbbd0e22e41fc4fd9fd9fc0bff027ac"
   },
   "outputs": [],
   "source": [
    "# Get train and test IDs\n",
    "train_ids = next(os.walk(TRAIN_PATH))[1]\n",
    "test_ids = next(os.walk(TEST_PATH))[1]"
   ]
  },
  {
   "cell_type": "markdown",
   "metadata": {},
   "source": [
    "データ絞る"
   ]
  },
  {
   "cell_type": "code",
   "execution_count": 3,
   "metadata": {},
   "outputs": [],
   "source": [
    "train_ids = train_ids[:100]\n",
    "test_ids = test_ids[:50]"
   ]
  },
  {
   "cell_type": "markdown",
   "metadata": {
    "_cell_guid": "59c4a25d-645f-4b74-9c53-145ac78cc481",
    "_uuid": "875af74f980236825de3a650825b46e25632422c"
   },
   "source": [
    "# Get the data\n",
    "Let's first import all the images and associated masks. I downsample both the training and test images to keep things light and manageable, but we need to keep a record of the original sizes of the test images to upsample our predicted masks and create correct run-length encodings later on. There are definitely better ways to handle this, but it works fine for now!"
   ]
  },
  {
   "cell_type": "code",
   "execution_count": 4,
   "metadata": {
    "_cell_guid": "ca0cc34b-c26f-41ee-88d7-975aebdb634e",
    "_uuid": "9e389ba8bdb5b6fc03b231b6a6c84a8bde634053"
   },
   "outputs": [
    {
     "name": "stdout",
     "output_type": "stream",
     "text": [
      "Getting and resizing train images and masks ... \n"
     ]
    },
    {
     "name": "stderr",
     "output_type": "stream",
     "text": [
      "100%|██████████| 100/100 [00:30<00:00,  3.27it/s]"
     ]
    },
    {
     "name": "stdout",
     "output_type": "stream",
     "text": [
      "Getting and resizing test images ... \n"
     ]
    },
    {
     "name": "stderr",
     "output_type": "stream",
     "text": [
      "\n",
      "100%|██████████| 50/50 [00:02<00:00, 24.40it/s]"
     ]
    },
    {
     "name": "stdout",
     "output_type": "stream",
     "text": [
      "Done!\n"
     ]
    },
    {
     "name": "stderr",
     "output_type": "stream",
     "text": [
      "\n"
     ]
    }
   ],
   "source": [
    "# Get and resize train images and masks\n",
    "X_train = np.zeros((len(train_ids), IMG_HEIGHT, IMG_WIDTH, IMG_CHANNELS), dtype=np.uint8)\n",
    "Y_train = np.zeros((len(train_ids), IMG_HEIGHT, IMG_WIDTH, 1), dtype=np.bool)\n",
    "print('Getting and resizing train images and masks ... ')\n",
    "sys.stdout.flush()\n",
    "for n, id_ in tqdm(enumerate(train_ids), total=len(train_ids)):\n",
    "    path = TRAIN_PATH + id_\n",
    "    img = imread(path + '/images/' + id_ + '.png')[:,:,:IMG_CHANNELS]\n",
    "    img = resize(img, (IMG_HEIGHT, IMG_WIDTH), mode='constant', preserve_range=True)\n",
    "    X_train[n] = img\n",
    "    mask = np.zeros((IMG_HEIGHT, IMG_WIDTH, 1), dtype=np.bool)\n",
    "    for mask_file in next(os.walk(path + '/masks/'))[2]:\n",
    "        mask_ = imread(path + '/masks/' + mask_file)\n",
    "        mask_ = np.expand_dims(resize(mask_, (IMG_HEIGHT, IMG_WIDTH), mode='constant', \n",
    "                                      preserve_range=True), axis=-1)\n",
    "        mask = np.maximum(mask, mask_)\n",
    "    Y_train[n] = mask\n",
    "\n",
    "# Get and resize test images\n",
    "X_test = np.zeros((len(test_ids), IMG_HEIGHT, IMG_WIDTH, IMG_CHANNELS), dtype=np.uint8)\n",
    "sizes_test = []\n",
    "print('Getting and resizing test images ... ')\n",
    "sys.stdout.flush()\n",
    "for n, id_ in tqdm(enumerate(test_ids), total=len(test_ids)):\n",
    "    path = TEST_PATH + id_\n",
    "    img = imread(path + '/images/' + id_ + '.png')[:,:,:IMG_CHANNELS]\n",
    "    sizes_test.append([img.shape[0], img.shape[1]])\n",
    "    img = resize(img, (IMG_HEIGHT, IMG_WIDTH), mode='constant', preserve_range=True)\n",
    "    X_test[n] = img\n",
    "\n",
    "print('Done!')"
   ]
  },
  {
   "cell_type": "code",
   "execution_count": 5,
   "metadata": {},
   "outputs": [
    {
     "data": {
      "text/plain": [
       "array([[[[ 26,  26,  26],\n",
       "         [ 12,  12,  12],\n",
       "         [  8,   8,   8],\n",
       "         ...,\n",
       "         [ 26,  26,  26],\n",
       "         [ 27,  27,  27],\n",
       "         [ 24,  24,  24]],\n",
       "\n",
       "        [[ 25,  25,  25],\n",
       "         [ 13,  13,  13],\n",
       "         [  7,   7,   7],\n",
       "         ...,\n",
       "         [ 32,  32,  32],\n",
       "         [ 31,  31,  31],\n",
       "         [ 29,  29,  29]],\n",
       "\n",
       "        [[ 17,  17,  17],\n",
       "         [ 10,  10,  10],\n",
       "         [  6,   6,   6],\n",
       "         ...,\n",
       "         [ 39,  39,  39],\n",
       "         [ 38,  38,  38],\n",
       "         [ 37,  37,  37]],\n",
       "\n",
       "        ...,\n",
       "\n",
       "        [[  4,   4,   4],\n",
       "         [  4,   4,   4],\n",
       "         [  5,   5,   5],\n",
       "         ...,\n",
       "         [  5,   5,   5],\n",
       "         [  5,   5,   5],\n",
       "         [  6,   6,   6]],\n",
       "\n",
       "        [[  5,   5,   5],\n",
       "         [  5,   5,   5],\n",
       "         [  5,   5,   5],\n",
       "         ...,\n",
       "         [  5,   5,   5],\n",
       "         [  6,   6,   6],\n",
       "         [  7,   7,   7]],\n",
       "\n",
       "        [[  5,   5,   5],\n",
       "         [  5,   5,   5],\n",
       "         [  5,   5,   5],\n",
       "         ...,\n",
       "         [  6,   6,   6],\n",
       "         [  7,   7,   7],\n",
       "         [  8,   8,   8]]],\n",
       "\n",
       "\n",
       "       [[[ 58,  58,  58],\n",
       "         [ 61,  61,  61],\n",
       "         [ 63,  63,  63],\n",
       "         ...,\n",
       "         [ 17,  17,  17],\n",
       "         [ 32,  32,  32],\n",
       "         [ 60,  60,  60]],\n",
       "\n",
       "        [[ 60,  60,  60],\n",
       "         [ 62,  62,  62],\n",
       "         [ 62,  62,  62],\n",
       "         ...,\n",
       "         [ 15,  15,  15],\n",
       "         [ 26,  26,  26],\n",
       "         [ 54,  54,  54]],\n",
       "\n",
       "        [[ 61,  61,  61],\n",
       "         [ 63,  63,  63],\n",
       "         [ 62,  62,  62],\n",
       "         ...,\n",
       "         [ 16,  16,  16],\n",
       "         [ 19,  19,  19],\n",
       "         [ 40,  40,  40]],\n",
       "\n",
       "        ...,\n",
       "\n",
       "        [[ 14,  14,  14],\n",
       "         [ 14,  14,  14],\n",
       "         [ 14,  14,  14],\n",
       "         ...,\n",
       "         [ 11,  11,  11],\n",
       "         [ 11,  11,  11],\n",
       "         [ 11,  11,  11]],\n",
       "\n",
       "        [[ 14,  14,  14],\n",
       "         [ 14,  14,  14],\n",
       "         [ 14,  14,  14],\n",
       "         ...,\n",
       "         [ 11,  11,  11],\n",
       "         [ 10,  10,  10],\n",
       "         [ 11,  11,  11]],\n",
       "\n",
       "        [[ 15,  15,  15],\n",
       "         [ 14,  14,  14],\n",
       "         [ 14,  14,  14],\n",
       "         ...,\n",
       "         [ 10,  10,  10],\n",
       "         [ 11,  11,  11],\n",
       "         [ 12,  12,  12]]],\n",
       "\n",
       "\n",
       "       [[[108,  47, 194],\n",
       "         [129,  75, 199],\n",
       "         [129,  77, 197],\n",
       "         ...,\n",
       "         [178, 160, 208],\n",
       "         [180, 161, 208],\n",
       "         [179, 156, 208]],\n",
       "\n",
       "        [[107,  45, 193],\n",
       "         [127,  76, 199],\n",
       "         [134, 100, 200],\n",
       "         ...,\n",
       "         [178, 161, 209],\n",
       "         [179, 162, 208],\n",
       "         [181, 163, 209]],\n",
       "\n",
       "        [[120,  61, 196],\n",
       "         [129,  86, 199],\n",
       "         [157, 131, 204],\n",
       "         ...,\n",
       "         [182, 159, 208],\n",
       "         [179, 158, 207],\n",
       "         [180, 161, 208]],\n",
       "\n",
       "        ...,\n",
       "\n",
       "        [[179, 160, 207],\n",
       "         [177, 156, 206],\n",
       "         [176, 155, 206],\n",
       "         ...,\n",
       "         [179, 158, 210],\n",
       "         [182, 160, 209],\n",
       "         [177, 161, 208]],\n",
       "\n",
       "        [[176, 159, 207],\n",
       "         [177, 157, 207],\n",
       "         [176, 155, 206],\n",
       "         ...,\n",
       "         [181, 161, 210],\n",
       "         [182, 159, 209],\n",
       "         [179, 160, 208]],\n",
       "\n",
       "        [[173, 156, 207],\n",
       "         [177, 160, 207],\n",
       "         [177, 159, 207],\n",
       "         ...,\n",
       "         [180, 163, 211],\n",
       "         [181, 161, 209],\n",
       "         [183, 161, 209]]],\n",
       "\n",
       "\n",
       "       ...,\n",
       "\n",
       "\n",
       "       [[[  6,   6,   6],\n",
       "         [  6,   6,   6],\n",
       "         [  6,   6,   6],\n",
       "         ...,\n",
       "         [  6,   6,   6],\n",
       "         [  6,   6,   6],\n",
       "         [  7,   7,   7]],\n",
       "\n",
       "        [[  7,   7,   7],\n",
       "         [  7,   7,   7],\n",
       "         [  6,   6,   6],\n",
       "         ...,\n",
       "         [  6,   6,   6],\n",
       "         [  6,   6,   6],\n",
       "         [  6,   6,   6]],\n",
       "\n",
       "        [[  7,   7,   7],\n",
       "         [  6,   6,   6],\n",
       "         [  6,   6,   6],\n",
       "         ...,\n",
       "         [  6,   6,   6],\n",
       "         [  6,   6,   6],\n",
       "         [  6,   6,   6]],\n",
       "\n",
       "        ...,\n",
       "\n",
       "        [[ 27,  27,  27],\n",
       "         [ 32,  32,  32],\n",
       "         [ 34,  34,  34],\n",
       "         ...,\n",
       "         [ 30,  30,  30],\n",
       "         [ 29,  29,  29],\n",
       "         [ 28,  28,  28]],\n",
       "\n",
       "        [[ 29,  29,  29],\n",
       "         [ 34,  34,  34],\n",
       "         [ 33,  33,  33],\n",
       "         ...,\n",
       "         [ 34,  34,  34],\n",
       "         [ 37,  37,  37],\n",
       "         [ 37,  37,  37]],\n",
       "\n",
       "        [[ 27,  27,  27],\n",
       "         [ 33,  33,  33],\n",
       "         [ 35,  35,  35],\n",
       "         ...,\n",
       "         [ 36,  36,  36],\n",
       "         [ 37,  37,  37],\n",
       "         [ 38,  38,  38]]],\n",
       "\n",
       "\n",
       "       [[[  2,   2,   2],\n",
       "         [  3,   3,   3],\n",
       "         [  2,   2,   2],\n",
       "         ...,\n",
       "         [  6,   6,   6],\n",
       "         [  4,   4,   4],\n",
       "         [  5,   5,   5]],\n",
       "\n",
       "        [[  3,   3,   3],\n",
       "         [  2,   2,   2],\n",
       "         [  3,   3,   3],\n",
       "         ...,\n",
       "         [  6,   6,   6],\n",
       "         [  5,   5,   5],\n",
       "         [  5,   5,   5]],\n",
       "\n",
       "        [[  2,   2,   2],\n",
       "         [  3,   3,   3],\n",
       "         [  3,   3,   3],\n",
       "         ...,\n",
       "         [  6,   6,   6],\n",
       "         [  5,   5,   5],\n",
       "         [  5,   5,   5]],\n",
       "\n",
       "        ...,\n",
       "\n",
       "        [[  4,   4,   4],\n",
       "         [  3,   3,   3],\n",
       "         [  4,   4,   4],\n",
       "         ...,\n",
       "         [  4,   4,   4],\n",
       "         [  3,   3,   3],\n",
       "         [  5,   5,   5]],\n",
       "\n",
       "        [[  4,   4,   4],\n",
       "         [  3,   3,   3],\n",
       "         [  4,   4,   4],\n",
       "         ...,\n",
       "         [  3,   3,   3],\n",
       "         [  4,   4,   4],\n",
       "         [  4,   4,   4]],\n",
       "\n",
       "        [[  3,   3,   3],\n",
       "         [  4,   4,   4],\n",
       "         [  5,   5,   5],\n",
       "         ...,\n",
       "         [  3,   3,   3],\n",
       "         [  5,   5,   5],\n",
       "         [  5,   5,   5]]],\n",
       "\n",
       "\n",
       "       [[[  3,   3,   3],\n",
       "         [  3,   3,   3],\n",
       "         [  3,   3,   3],\n",
       "         ...,\n",
       "         [  2,   2,   2],\n",
       "         [  2,   2,   2],\n",
       "         [  2,   2,   2]],\n",
       "\n",
       "        [[  3,   3,   3],\n",
       "         [  3,   3,   3],\n",
       "         [  3,   3,   3],\n",
       "         ...,\n",
       "         [  2,   2,   2],\n",
       "         [  2,   2,   2],\n",
       "         [  2,   2,   2]],\n",
       "\n",
       "        [[  4,   4,   4],\n",
       "         [  2,   2,   2],\n",
       "         [  3,   3,   3],\n",
       "         ...,\n",
       "         [  2,   2,   2],\n",
       "         [  2,   2,   2],\n",
       "         [  2,   2,   2]],\n",
       "\n",
       "        ...,\n",
       "\n",
       "        [[  3,   3,   3],\n",
       "         [  3,   3,   3],\n",
       "         [  2,   2,   2],\n",
       "         ...,\n",
       "         [  3,   3,   3],\n",
       "         [  3,   3,   3],\n",
       "         [  3,   3,   3]],\n",
       "\n",
       "        [[  2,   2,   2],\n",
       "         [  2,   2,   2],\n",
       "         [  2,   2,   2],\n",
       "         ...,\n",
       "         [  3,   3,   3],\n",
       "         [  2,   2,   2],\n",
       "         [  2,   2,   2]],\n",
       "\n",
       "        [[  2,   2,   2],\n",
       "         [  3,   3,   3],\n",
       "         [  2,   2,   2],\n",
       "         ...,\n",
       "         [  3,   3,   3],\n",
       "         [  3,   3,   3],\n",
       "         [  2,   2,   2]]]], dtype=uint8)"
      ]
     },
     "execution_count": 5,
     "metadata": {},
     "output_type": "execute_result"
    }
   ],
   "source": [
    "X_train"
   ]
  },
  {
   "cell_type": "markdown",
   "metadata": {
    "_cell_guid": "c0523b03-1fc5-4505-a1b8-eb35ee617c8a",
    "_uuid": "d4f8327802a1ec6139ce0585953986272ba62ce1"
   },
   "source": [
    "Let's see if things look all right by drawing some random images and their associated masks."
   ]
  },
  {
   "cell_type": "code",
   "execution_count": 6,
   "metadata": {
    "_cell_guid": "88829b53-50ce-45d9-9540-77dd7384ad4c",
    "_uuid": "283af26f0860b7069bdfd133c746e5d20971542c"
   },
   "outputs": [
    {
     "name": "stderr",
     "output_type": "stream",
     "text": [
      "/Users/kzfm/.pyenv/versions/anaconda3-5.1.0/lib/python3.6/site-packages/skimage/io/_plugins/matplotlib_plugin.py:51: FutureWarning: Conversion of the second argument of issubdtype from `float` to `np.floating` is deprecated. In future, it will be treated as `np.float64 == np.dtype(float).type`.\n",
      "  out_of_range_float = (np.issubdtype(image.dtype, np.float) and\n"
     ]
    },
    {
     "data": {
      "image/png": "[encoded data removed]",
      "text/plain": [
       "<matplotlib.figure.Figure at 0x1c2cb7a6a0>"
      ]
     },
     "metadata": {},
     "output_type": "display_data"
    },
    {
     "data": {
      "image/png": "[encoded data removed]",
      "text/plain": [
       "<matplotlib.figure.Figure at 0x10e8a4048>"
      ]
     },
     "metadata": {},
     "output_type": "display_data"
    }
   ],
   "source": [
    "# Check if training data looks all right\n",
    "ix = random.randint(0, len(train_ids))\n",
    "imshow(X_train[ix])\n",
    "plt.show()\n",
    "imshow(np.squeeze(Y_train[ix]))\n",
    "plt.show()"
   ]
  },
  {
   "cell_type": "markdown",
   "metadata": {
    "_cell_guid": "2574ffe9-b911-4bfd-a00f-9ba5c25f45de",
    "_uuid": "938648da705689a0f940ff462477c801db3f0737"
   },
   "source": [
    "Seems good!\n",
    "\n",
    "# Create our Keras metric\n",
    "\n",
    "Now we try to define the *mean average precision at different intersection over union (IoU) thresholds* metric in Keras. TensorFlow has a mean IoU metric, but it doesn't have any native support for the mean over multiple thresholds, so I tried to implement this. **I'm by no means certain that this implementation is correct, though!** Any assistance in verifying this would be most welcome! \n",
    "\n",
    "*Update: This implementation is most definitely not correct due to the very large discrepancy between the results reported here and the LB results. It also seems to just increase over time no matter what when you train ... *"
   ]
  },
  {
   "cell_type": "code",
   "execution_count": 7,
   "metadata": {
    "_cell_guid": "c1df6f3a-d58f-434b-9216-ef7be38637d4",
    "_uuid": "5abd38950ae99b60f8afec7656eb654a48d449fe"
   },
   "outputs": [],
   "source": [
    "# Define IoU metric\n",
    "def mean_iou(y_true, y_pred):\n",
    "    prec = []\n",
    "    for t in np.arange(0.5, 1.0, 0.05):\n",
    "        y_pred_ = tf.to_int32(y_pred > t)\n",
    "        score, up_opt = tf.metrics.mean_iou(y_true, y_pred_, 2)\n",
    "        K.get_session().run(tf.local_variables_initializer())\n",
    "        with tf.control_dependencies([up_opt]):\n",
    "            score = tf.identity(score)\n",
    "        prec.append(score)\n",
    "    return K.mean(K.stack(prec), axis=0)"
   ]
  },
  {
   "cell_type": "markdown",
   "metadata": {
    "_cell_guid": "c3b9f148-1dba-4b6a-981b-6cdbf394fc3c",
    "_uuid": "986488a4c5223576be370e224426a30431911eb2"
   },
   "source": [
    "# Build and train our neural network\n",
    "Next we build our U-Net model, loosely based on [U-Net: Convolutional Networks for Biomedical Image Segmentation](https://arxiv.org/pdf/1505.04597.pdf) and very similar to [this repo](https://github.com/jocicmarko/ultrasound-nerve-segmentation) from the Kaggle Ultrasound Nerve Segmentation competition.\n",
    "\n",
    "![](https://lmb.informatik.uni-freiburg.de/people/ronneber/u-net/u-net-architecture.png)"
   ]
  },
  {
   "cell_type": "code",
   "execution_count": 8,
   "metadata": {
    "_cell_guid": "c1dbc57c-b497-4ccb-b077-2053203ab7ed",
    "_uuid": "0aa97d66c29f45dfac9b0f45fcf74ba0e778ba5d"
   },
   "outputs": [
    {
     "name": "stdout",
     "output_type": "stream",
     "text": [
      "__________________________________________________________________________________________________\n",
      "Layer (type)                    Output Shape         Param #     Connected to                     \n",
      "==================================================================================================\n",
      "input_1 (InputLayer)            (None, 128, 128, 3)  0                                            \n",
      "__________________________________________________________________________________________________\n",
      "lambda_1 (Lambda)               (None, 128, 128, 3)  0           input_1[0][0]                    \n",
      "__________________________________________________________________________________________________\n",
      "conv2d_1 (Conv2D)               (None, 128, 128, 8)  224         lambda_1[0][0]                   \n",
      "__________________________________________________________________________________________________\n",
      "conv2d_2 (Conv2D)               (None, 128, 128, 8)  584         conv2d_1[0][0]                   \n",
      "__________________________________________________________________________________________________\n",
      "max_pooling2d_1 (MaxPooling2D)  (None, 64, 64, 8)    0           conv2d_2[0][0]                   \n",
      "__________________________________________________________________________________________________\n",
      "conv2d_3 (Conv2D)               (None, 64, 64, 16)   1168        max_pooling2d_1[0][0]            \n",
      "__________________________________________________________________________________________________\n",
      "conv2d_4 (Conv2D)               (None, 64, 64, 16)   2320        conv2d_3[0][0]                   \n",
      "__________________________________________________________________________________________________\n",
      "max_pooling2d_2 (MaxPooling2D)  (None, 32, 32, 16)   0           conv2d_4[0][0]                   \n",
      "__________________________________________________________________________________________________\n",
      "conv2d_5 (Conv2D)               (None, 32, 32, 32)   4640        max_pooling2d_2[0][0]            \n",
      "__________________________________________________________________________________________________\n",
      "conv2d_6 (Conv2D)               (None, 32, 32, 32)   9248        conv2d_5[0][0]                   \n",
      "__________________________________________________________________________________________________\n",
      "max_pooling2d_3 (MaxPooling2D)  (None, 16, 16, 32)   0           conv2d_6[0][0]                   \n",
      "__________________________________________________________________________________________________\n",
      "conv2d_7 (Conv2D)               (None, 16, 16, 64)   18496       max_pooling2d_3[0][0]            \n",
      "__________________________________________________________________________________________________\n",
      "conv2d_8 (Conv2D)               (None, 16, 16, 64)   36928       conv2d_7[0][0]                   \n",
      "__________________________________________________________________________________________________\n",
      "max_pooling2d_4 (MaxPooling2D)  (None, 8, 8, 64)     0           conv2d_8[0][0]                   \n",
      "__________________________________________________________________________________________________\n",
      "conv2d_9 (Conv2D)               (None, 8, 8, 128)    73856       max_pooling2d_4[0][0]            \n",
      "__________________________________________________________________________________________________\n",
      "conv2d_10 (Conv2D)              (None, 8, 8, 128)    147584      conv2d_9[0][0]                   \n",
      "__________________________________________________________________________________________________\n",
      "conv2d_transpose_1 (Conv2DTrans (None, 16, 16, 64)   32832       conv2d_10[0][0]                  \n",
      "__________________________________________________________________________________________________\n",
      "concatenate_1 (Concatenate)     (None, 16, 16, 128)  0           conv2d_transpose_1[0][0]         \n",
      "                                                                 conv2d_8[0][0]                   \n",
      "__________________________________________________________________________________________________\n",
      "conv2d_11 (Conv2D)              (None, 16, 16, 64)   73792       concatenate_1[0][0]              \n",
      "__________________________________________________________________________________________________\n",
      "conv2d_12 (Conv2D)              (None, 16, 16, 64)   36928       conv2d_11[0][0]                  \n",
      "__________________________________________________________________________________________________\n",
      "conv2d_transpose_2 (Conv2DTrans (None, 32, 32, 32)   8224        conv2d_12[0][0]                  \n",
      "__________________________________________________________________________________________________\n",
      "concatenate_2 (Concatenate)     (None, 32, 32, 64)   0           conv2d_transpose_2[0][0]         \n",
      "                                                                 conv2d_6[0][0]                   \n",
      "__________________________________________________________________________________________________\n",
      "conv2d_13 (Conv2D)              (None, 32, 32, 32)   18464       concatenate_2[0][0]              \n",
      "__________________________________________________________________________________________________\n",
      "conv2d_14 (Conv2D)              (None, 32, 32, 32)   9248        conv2d_13[0][0]                  \n",
      "__________________________________________________________________________________________________\n",
      "conv2d_transpose_3 (Conv2DTrans (None, 64, 64, 16)   2064        conv2d_14[0][0]                  \n",
      "__________________________________________________________________________________________________\n",
      "concatenate_3 (Concatenate)     (None, 64, 64, 32)   0           conv2d_transpose_3[0][0]         \n",
      "                                                                 conv2d_4[0][0]                   \n",
      "__________________________________________________________________________________________________\n",
      "conv2d_15 (Conv2D)              (None, 64, 64, 16)   4624        concatenate_3[0][0]              \n",
      "__________________________________________________________________________________________________\n",
      "conv2d_16 (Conv2D)              (None, 64, 64, 16)   2320        conv2d_15[0][0]                  \n",
      "__________________________________________________________________________________________________\n",
      "conv2d_transpose_4 (Conv2DTrans (None, 128, 128, 8)  520         conv2d_16[0][0]                  \n",
      "__________________________________________________________________________________________________\n",
      "concatenate_4 (Concatenate)     (None, 128, 128, 16) 0           conv2d_transpose_4[0][0]         \n",
      "                                                                 conv2d_2[0][0]                   \n",
      "__________________________________________________________________________________________________\n",
      "conv2d_17 (Conv2D)              (None, 128, 128, 8)  1160        concatenate_4[0][0]              \n",
      "__________________________________________________________________________________________________\n",
      "conv2d_18 (Conv2D)              (None, 128, 128, 8)  584         conv2d_17[0][0]                  \n",
      "__________________________________________________________________________________________________\n",
      "conv2d_19 (Conv2D)              (None, 128, 128, 1)  9           conv2d_18[0][0]                  \n",
      "==================================================================================================\n",
      "Total params: 485,817\n",
      "Trainable params: 485,817\n",
      "Non-trainable params: 0\n",
      "__________________________________________________________________________________________________\n"
     ]
    }
   ],
   "source": [
    "# Build U-Net model\n",
    "inputs = Input((IMG_HEIGHT, IMG_WIDTH, IMG_CHANNELS))\n",
    "s = Lambda(lambda x: x / 255) (inputs)\n",
    "\n",
    "c1 = Conv2D(8, (3, 3), activation='relu', padding='same') (s)\n",
    "c1 = Conv2D(8, (3, 3), activation='relu', padding='same') (c1)\n",
    "p1 = MaxPooling2D((2, 2)) (c1)\n",
    "\n",
    "c2 = Conv2D(16, (3, 3), activation='relu', padding='same') (p1)\n",
    "c2 = Conv2D(16, (3, 3), activation='relu', padding='same') (c2)\n",
    "p2 = MaxPooling2D((2, 2)) (c2)\n",
    "\n",
    "c3 = Conv2D(32, (3, 3), activation='relu', padding='same') (p2)\n",
    "c3 = Conv2D(32, (3, 3), activation='relu', padding='same') (c3)\n",
    "p3 = MaxPooling2D((2, 2)) (c3)\n",
    "\n",
    "c4 = Conv2D(64, (3, 3), activation='relu', padding='same') (p3)\n",
    "c4 = Conv2D(64, (3, 3), activation='relu', padding='same') (c4)\n",
    "p4 = MaxPooling2D(pool_size=(2, 2)) (c4)\n",
    "\n",
    "c5 = Conv2D(128, (3, 3), activation='relu', padding='same') (p4)\n",
    "c5 = Conv2D(128, (3, 3), activation='relu', padding='same') (c5)\n",
    "\n",
    "u6 = Conv2DTranspose(64, (2, 2), strides=(2, 2), padding='same') (c5)\n",
    "u6 = concatenate([u6, c4])\n",
    "c6 = Conv2D(64, (3, 3), activation='relu', padding='same') (u6)\n",
    "c6 = Conv2D(64, (3, 3), activation='relu', padding='same') (c6)\n",
    "\n",
    "u7 = Conv2DTranspose(32, (2, 2), strides=(2, 2), padding='same') (c6)\n",
    "u7 = concatenate([u7, c3])\n",
    "c7 = Conv2D(32, (3, 3), activation='relu', padding='same') (u7)\n",
    "c7 = Conv2D(32, (3, 3), activation='relu', padding='same') (c7)\n",
    "\n",
    "u8 = Conv2DTranspose(16, (2, 2), strides=(2, 2), padding='same') (c7)\n",
    "u8 = concatenate([u8, c2])\n",
    "c8 = Conv2D(16, (3, 3), activation='relu', padding='same') (u8)\n",
    "c8 = Conv2D(16, (3, 3), activation='relu', padding='same') (c8)\n",
    "\n",
    "u9 = Conv2DTranspose(8, (2, 2), strides=(2, 2), padding='same') (c8)\n",
    "u9 = concatenate([u9, c1], axis=3)\n",
    "c9 = Conv2D(8, (3, 3), activation='relu', padding='same') (u9)\n",
    "c9 = Conv2D(8, (3, 3), activation='relu', padding='same') (c9)\n",
    "\n",
    "outputs = Conv2D(1, (1, 1), activation='sigmoid') (c9)\n",
    "\n",
    "model = Model(inputs=[inputs], outputs=[outputs])\n",
    "model.compile(optimizer='adam', loss='binary_crossentropy', metrics=[mean_iou])\n",
    "model.summary()"
   ]
  },
  {
   "cell_type": "markdown",
   "metadata": {
    "_cell_guid": "72330944-6ce7-4070-b276-c3c4b20c4fe5",
    "_uuid": "92350b6e18cc50f3fa7b6e9a02d39fcbff8238f7"
   },
   "source": [
    "Next we fit the model on the training data, using a validation split of 0.1. We use a small batch size because we have so little data. I recommend using checkpointing and early stopping when training your model. I won't do it here to make things a bit more reproducible (although it's very likely that your results will be different anyway). I'll just train for 10 epochs, which takes around 10 minutes in the Kaggle kernel with the current parameters. \n",
    "\n",
    "*Update: Added early stopping and checkpointing and increased to 30 epochs.*"
   ]
  },
  {
   "cell_type": "code",
   "execution_count": 10,
   "metadata": {
    "_cell_guid": "9415b1c4-aa69-41b9-a1e3-d6053dbd4f64",
    "_uuid": "c060db22daa2abf12b28240cd81bbcbf1ce1bf87"
   },
   "outputs": [
    {
     "name": "stdout",
     "output_type": "stream",
     "text": [
      "Train on 90 samples, validate on 10 samples\n",
      "Epoch 1/30\n",
      "90/90 [==============================] - 20s 221ms/step - loss: 0.3543 - mean_iou: 0.4191 - val_loss: 0.3220 - val_mean_iou: 0.4192\n",
      "\n",
      "Epoch 00001: val_loss improved from inf to 0.32198, saving model to model-dsbowl2018-1.h5\n",
      "Epoch 2/30\n",
      "90/90 [==============================] - 15s 171ms/step - loss: 0.3339 - mean_iou: 0.4190 - val_loss: 0.3492 - val_mean_iou: 0.4191\n",
      "\n",
      "Epoch 00002: val_loss did not improve from 0.32198\n",
      "Epoch 3/30\n",
      "90/90 [==============================] - 15s 171ms/step - loss: 0.3197 - mean_iou: 0.4191 - val_loss: 0.2805 - val_mean_iou: 0.4191\n",
      "\n",
      "Epoch 00003: val_loss improved from 0.32198 to 0.28047, saving model to model-dsbowl2018-1.h5\n",
      "Epoch 4/30\n",
      "90/90 [==============================] - 16s 180ms/step - loss: 0.3093 - mean_iou: 0.4189 - val_loss: 0.3018 - val_mean_iou: 0.4191\n",
      "\n",
      "Epoch 00004: val_loss did not improve from 0.28047\n",
      "Epoch 5/30\n",
      "90/90 [==============================] - 23s 261ms/step - loss: 0.2915 - mean_iou: 0.4192 - val_loss: 0.2552 - val_mean_iou: 0.4190\n",
      "\n",
      "Epoch 00005: val_loss improved from 0.28047 to 0.25516, saving model to model-dsbowl2018-1.h5\n",
      "Epoch 6/30\n",
      "90/90 [==============================] - 22s 244ms/step - loss: 0.2478 - mean_iou: 0.4189 - val_loss: 0.2367 - val_mean_iou: 0.4190\n",
      "\n",
      "Epoch 00006: val_loss improved from 0.25516 to 0.23674, saving model to model-dsbowl2018-1.h5\n",
      "Epoch 7/30\n",
      "90/90 [==============================] - 19s 207ms/step - loss: 0.2361 - mean_iou: 0.4191 - val_loss: 0.2202 - val_mean_iou: 0.4191\n",
      "\n",
      "Epoch 00007: val_loss improved from 0.23674 to 0.22017, saving model to model-dsbowl2018-1.h5\n",
      "Epoch 8/30\n",
      "90/90 [==============================] - 21s 231ms/step - loss: 0.2134 - mean_iou: 0.4192 - val_loss: 0.2185 - val_mean_iou: 0.4192\n",
      "\n",
      "Epoch 00008: val_loss improved from 0.22017 to 0.21849, saving model to model-dsbowl2018-1.h5\n",
      "Epoch 9/30\n",
      "90/90 [==============================] - 40s 447ms/step - loss: 0.2052 - mean_iou: 0.4193 - val_loss: 0.2048 - val_mean_iou: 0.4199\n",
      "\n",
      "Epoch 00009: val_loss improved from 0.21849 to 0.20482, saving model to model-dsbowl2018-1.h5\n",
      "Epoch 10/30\n",
      "90/90 [==============================] - 37s 415ms/step - loss: 0.1985 - mean_iou: 0.4205 - val_loss: 0.1863 - val_mean_iou: 0.4214\n",
      "\n",
      "Epoch 00010: val_loss improved from 0.20482 to 0.18629, saving model to model-dsbowl2018-1.h5\n",
      "Epoch 11/30\n",
      "90/90 [==============================] - 39s 428ms/step - loss: 0.1818 - mean_iou: 0.4223 - val_loss: 0.1735 - val_mean_iou: 0.4235\n",
      "\n",
      "Epoch 00011: val_loss improved from 0.18629 to 0.17352, saving model to model-dsbowl2018-1.h5\n",
      "Epoch 12/30\n",
      "90/90 [==============================] - 53s 586ms/step - loss: 0.1767 - mean_iou: 0.4258 - val_loss: 0.1901 - val_mean_iou: 0.4288\n",
      "\n",
      "Epoch 00012: val_loss did not improve from 0.17352\n",
      "Epoch 13/30\n",
      "90/90 [==============================] - 26s 290ms/step - loss: 0.2248 - mean_iou: 0.4328 - val_loss: 0.2518 - val_mean_iou: 0.4356\n",
      "\n",
      "Epoch 00013: val_loss did not improve from 0.17352\n",
      "Epoch 14/30\n",
      "90/90 [==============================] - 22s 242ms/step - loss: 0.1700 - mean_iou: 0.4397 - val_loss: 0.1529 - val_mean_iou: 0.4439\n",
      "\n",
      "Epoch 00014: val_loss improved from 0.17352 to 0.15288, saving model to model-dsbowl2018-1.h5\n",
      "Epoch 15/30\n",
      "90/90 [==============================] - 23s 256ms/step - loss: 0.1612 - mean_iou: 0.4497 - val_loss: 0.1478 - val_mean_iou: 0.4547\n",
      "\n",
      "Epoch 00015: val_loss improved from 0.15288 to 0.14780, saving model to model-dsbowl2018-1.h5\n",
      "Epoch 16/30\n",
      "90/90 [==============================] - 27s 298ms/step - loss: 0.1503 - mean_iou: 0.4587 - val_loss: 0.1426 - val_mean_iou: 0.4628\n",
      "\n",
      "Epoch 00016: val_loss improved from 0.14780 to 0.14259, saving model to model-dsbowl2018-1.h5\n",
      "Epoch 17/30\n",
      "90/90 [==============================] - 20s 222ms/step - loss: 0.1381 - mean_iou: 0.4678 - val_loss: 0.1164 - val_mean_iou: 0.4723\n",
      "\n",
      "Epoch 00017: val_loss improved from 0.14259 to 0.11644, saving model to model-dsbowl2018-1.h5\n",
      "Epoch 18/30\n",
      "90/90 [==============================] - 19s 213ms/step - loss: 0.1278 - mean_iou: 0.4770 - val_loss: 0.1288 - val_mean_iou: 0.4820\n",
      "\n",
      "Epoch 00018: val_loss did not improve from 0.11644\n",
      "Epoch 19/30\n",
      "90/90 [==============================] - 15s 169ms/step - loss: 0.1247 - mean_iou: 0.4862 - val_loss: 0.1136 - val_mean_iou: 0.4914\n",
      "\n",
      "Epoch 00019: val_loss improved from 0.11644 to 0.11357, saving model to model-dsbowl2018-1.h5\n",
      "Epoch 20/30\n",
      "90/90 [==============================] - 16s 175ms/step - loss: 0.1205 - mean_iou: 0.4958 - val_loss: 0.1137 - val_mean_iou: 0.5002\n",
      "\n",
      "Epoch 00020: val_loss did not improve from 0.11357\n",
      "Epoch 21/30\n",
      "90/90 [==============================] - 15s 164ms/step - loss: 0.1246 - mean_iou: 0.5050 - val_loss: 0.1193 - val_mean_iou: 0.5088\n",
      "\n",
      "Epoch 00021: val_loss did not improve from 0.11357\n",
      "Epoch 22/30\n",
      "90/90 [==============================] - 14s 158ms/step - loss: 0.1248 - mean_iou: 0.5129 - val_loss: 0.1300 - val_mean_iou: 0.5165\n",
      "\n",
      "Epoch 00022: val_loss did not improve from 0.11357\n",
      "Epoch 23/30\n",
      "90/90 [==============================] - 15s 162ms/step - loss: 0.1357 - mean_iou: 0.5203 - val_loss: 0.1094 - val_mean_iou: 0.5236\n",
      "\n",
      "Epoch 00023: val_loss improved from 0.11357 to 0.10944, saving model to model-dsbowl2018-1.h5\n",
      "Epoch 24/30\n",
      "90/90 [==============================] - 18s 198ms/step - loss: 0.1344 - mean_iou: 0.5275 - val_loss: 0.1097 - val_mean_iou: 0.5305\n",
      "\n",
      "Epoch 00024: val_loss did not improve from 0.10944\n",
      "Epoch 25/30\n",
      "90/90 [==============================] - 14s 161ms/step - loss: 0.1253 - mean_iou: 0.5340 - val_loss: 0.1243 - val_mean_iou: 0.5374\n",
      "\n",
      "Epoch 00025: val_loss did not improve from 0.10944\n",
      "Epoch 26/30\n",
      "90/90 [==============================] - 15s 167ms/step - loss: 0.1183 - mean_iou: 0.5400 - val_loss: 0.1030 - val_mean_iou: 0.5433\n",
      "\n",
      "Epoch 00026: val_loss improved from 0.10944 to 0.10298, saving model to model-dsbowl2018-1.h5\n",
      "Epoch 27/30\n",
      "90/90 [==============================] - 15s 169ms/step - loss: 0.1136 - mean_iou: 0.5465 - val_loss: 0.1148 - val_mean_iou: 0.5495\n",
      "\n",
      "Epoch 00027: val_loss did not improve from 0.10298\n",
      "Epoch 28/30\n",
      "90/90 [==============================] - 16s 173ms/step - loss: 0.1133 - mean_iou: 0.5528 - val_loss: 0.0999 - val_mean_iou: 0.5557\n",
      "\n",
      "Epoch 00028: val_loss improved from 0.10298 to 0.09995, saving model to model-dsbowl2018-1.h5\n",
      "Epoch 29/30\n",
      "90/90 [==============================] - 15s 170ms/step - loss: 0.1187 - mean_iou: 0.5587 - val_loss: 0.1012 - val_mean_iou: 0.5616\n",
      "\n",
      "Epoch 00029: val_loss did not improve from 0.09995\n",
      "Epoch 30/30\n",
      "90/90 [==============================] - 19s 213ms/step - loss: 0.1165 - mean_iou: 0.5644 - val_loss: 0.1001 - val_mean_iou: 0.5671\n",
      "\n",
      "Epoch 00030: val_loss did not improve from 0.09995\n"
     ]
    }
   ],
   "source": [
    "# Fit model\n",
    "earlystopper = EarlyStopping(patience=5, verbose=1)\n",
    "checkpointer = ModelCheckpoint('model-dsbowl2018-1.h5', verbose=1, save_best_only=True)\n",
    "results = model.fit(X_train, Y_train, validation_split=0.1, batch_size=8, epochs=30, \n",
    "                    callbacks=[earlystopper, checkpointer])"
   ]
  },
  {
   "cell_type": "markdown",
   "metadata": {
    "_cell_guid": "1f381f5b-1b71-4daa-a417-e02f4894540b",
    "_uuid": "bb15226ea617cf91ed8f43179fccb5a15809e5a0"
   },
   "source": [
    "All right, looks good! Loss seems to be a bit erratic, though. I'll leave it to you to improve the model architecture and parameters! \n",
    "\n",
    "# Make predictions\n",
    "\n",
    "Let's make predictions both on the test set, the val set and the train set (as a sanity check). Remember to load the best saved model if you've used early stopping and checkpointing."
   ]
  },
  {
   "cell_type": "code",
   "execution_count": null,
   "metadata": {
    "_cell_guid": "2daa48d5-ac98-4e18-af3f-a582baaa44f0",
    "_uuid": "f841760b4abca1a25cb750822f88268bd79bf2ce"
   },
   "outputs": [],
   "source": [
    "# Predict on train, val and test\n",
    "model = load_model('model-dsbowl2018-1.h5', custom_objects={'mean_iou': mean_iou})\n",
    "preds_train = model.predict(X_train[:int(X_train.shape[0]*0.9)], verbose=1)\n",
    "preds_val = model.predict(X_train[int(X_train.shape[0]*0.9):], verbose=1)\n",
    "preds_test = model.predict(X_test, verbose=1)\n",
    "\n",
    "# Threshold predictions\n",
    "preds_train_t = (preds_train > 0.5).astype(np.uint8)\n",
    "preds_val_t = (preds_val > 0.5).astype(np.uint8)\n",
    "preds_test_t = (preds_test > 0.5).astype(np.uint8)\n",
    "\n",
    "# Create list of upsampled test masks\n",
    "preds_test_upsampled = []\n",
    "for i in range(len(preds_test)):\n",
    "    preds_test_upsampled.append(resize(np.squeeze(preds_test[i]), \n",
    "                                       (sizes_test[i][0], sizes_test[i][1]), \n",
    "                                       mode='constant', preserve_range=True))"
   ]
  },
  {
   "cell_type": "code",
   "execution_count": null,
   "metadata": {},
   "outputs": [],
   "source": [
    "preds_test_upsampled[0]"
   ]
  },
  {
   "cell_type": "code",
   "execution_count": null,
   "metadata": {
    "_cell_guid": "649248cd-a1fb-4da6-ade2-4bebad44bcab",
    "_uuid": "7e06242a50870e07a080064a4912b761775990fa"
   },
   "outputs": [],
   "source": [
    "# Perform a sanity check on some random training samples\n",
    "ix = random.randint(0, len(preds_train_t))\n",
    "imshow(X_train[ix])\n",
    "plt.show()\n",
    "imshow(np.squeeze(Y_train[ix]))\n",
    "plt.show()\n",
    "imshow(np.squeeze(preds_train_t[ix]))\n",
    "plt.show()"
   ]
  },
  {
   "cell_type": "markdown",
   "metadata": {
    "_cell_guid": "af602aea-5e56-42a8-9331-54b4b2650593",
    "_uuid": "5fcee2b9aee2fba5c60d43ad48a14139e9c1318c"
   },
   "source": [
    "The model is at least able to fit to the training data! Certainly a lot of room for improvement even here, but a decent start. How about the validation data?"
   ]
  },
  {
   "cell_type": "code",
   "execution_count": null,
   "metadata": {
    "_cell_guid": "4f66b75c-c694-41a1-8c91-34bb6595837b",
    "_uuid": "d4ccbb559375bc2777ffb692a20adc313159f2cc"
   },
   "outputs": [],
   "source": [
    "# Perform a sanity check on some random validation samples\n",
    "ix = random.randint(0, len(preds_val_t))\n",
    "imshow(X_train[int(X_train.shape[0]*0.9):][ix])\n",
    "plt.show()\n",
    "imshow(np.squeeze(Y_train[int(Y_train.shape[0]*0.9):][ix]))\n",
    "plt.show()\n",
    "imshow(np.squeeze(preds_val_t[ix]))\n",
    "plt.show()"
   ]
  },
  {
   "cell_type": "markdown",
   "metadata": {
    "_cell_guid": "a6690535-b2e4-49ac-98d9-7191bfabfb6f",
    "_uuid": "6a34c98de7c6ae473f676a34fe7e099b46764eca"
   },
   "source": [
    "Not too shabby! Definitely needs some more training and tweaking.\n",
    "\n",
    "# Encode and submit our results\n",
    "\n",
    "Now it's time to submit our results. I've stolen [this](https://www.kaggle.com/rakhlin/fast-run-length-encoding-python) excellent implementation of run-length encoding."
   ]
  },
  {
   "cell_type": "code",
   "execution_count": null,
   "metadata": {
    "_cell_guid": "59a0af60-a7d7-41ef-a6fe-9e3c72defa07",
    "_uuid": "4f99c1bf852e82b60bd4f982ca0df293f712cdf0"
   },
   "outputs": [],
   "source": [
    "# Run-length encoding stolen from https://www.kaggle.com/rakhlin/fast-run-length-encoding-python\n",
    "def rle_encoding(x):\n",
    "    dots = np.where(x.T.flatten() == 1)[0]\n",
    "    run_lengths = []\n",
    "    prev = -2\n",
    "    for b in dots:\n",
    "        if (b>prev+1): run_lengths.extend((b + 1, 0))\n",
    "        run_lengths[-1] += 1\n",
    "        prev = b\n",
    "    return run_lengths\n",
    "\n",
    "def prob_to_rles(x, cutoff=0.5):\n",
    "    lab_img = label(x > cutoff)\n",
    "    for i in range(1, lab_img.max() + 1):\n",
    "        yield rle_encoding(lab_img == i)"
   ]
  },
  {
   "cell_type": "markdown",
   "metadata": {
    "_cell_guid": "31133f8c-3f40-4dff-8e1d-898d56672332",
    "_uuid": "2e07f6afc4787b068ba714428145dcb3951d718f"
   },
   "source": [
    "Let's iterate over the test IDs and generate run-length encodings for each seperate mask identified by skimage ..."
   ]
  },
  {
   "cell_type": "code",
   "execution_count": null,
   "metadata": {
    "_cell_guid": "22fe24a1-7659-4cc9-9d23-211f38e5b99f",
    "_uuid": "089587843ed6a3955fdcb9b23a6ec3bf5d703688"
   },
   "outputs": [],
   "source": [
    "new_test_ids = []\n",
    "rles = []\n",
    "for n, id_ in enumerate(test_ids):\n",
    "    rle = list(prob_to_rles(preds_test_upsampled[n]))\n",
    "    rles.extend(rle)\n",
    "    new_test_ids.extend([id_] * len(rle))"
   ]
  },
  {
   "cell_type": "markdown",
   "metadata": {
    "_cell_guid": "20b6b627-0fd6-425d-888f-da7f39efb124",
    "_uuid": "849184a40a2c9c21506d8b8eb10ad9155fa229e8"
   },
   "source": [
    "... and then finally create our submission!"
   ]
  },
  {
   "cell_type": "code",
   "execution_count": 38,
   "metadata": {
    "_cell_guid": "1ba0ee3a-cca0-4349-83f6-09a1ac6fcb44",
    "_uuid": "ba589f56f5be1e6886bc88f5bf9e7d0a408e4048"
   },
   "outputs": [],
   "source": [
    "# Create submission DataFrame\n",
    "sub = pd.DataFrame()\n",
    "sub['ImageId'] = new_test_ids\n",
    "sub['EncodedPixels'] = pd.Series(rles).apply(lambda x: ' '.join(str(y) for y in x))\n",
    "sub.to_csv('sub-dsbowl2018-1.csv', index=False)"
   ]
  },
  {
   "cell_type": "markdown",
   "metadata": {
    "_cell_guid": "222475b9-3171-461a-90f0-a820a6bd2634",
    "_uuid": "fb5e6f8cca872f1bd7036f6d9ac2ed2cab615536",
    "collapsed": true
   },
   "source": [
    "This scored 0.233 on the LB for me. That was with version 2 of this notebook; be aware that the results from the neural network are extremely erratic and vary greatly from run to run (version 3 is significantly worse, for example). Version 7 scores 0.277!\n",
    "\n",
    "You should easily be able to stabilize and improve the results just by changing a few parameters, tweaking the architecture a little bit and training longer with early stopping.\n",
    "\n",
    "**Have fun!**\n",
    "\n",
    "LB score history:\n",
    "- Version 7: 0.277 LB"
   ]
  },
  {
   "cell_type": "code",
   "execution_count": 11,
   "metadata": {
    "_cell_guid": "3f5e5a47-6133-4870-976a-a8e4fa7bf46c",
    "_uuid": "2a83eab66bf55194f300953bea5534b6a043130f"
   },
   "outputs": [
    {
     "data": {
      "text/plain": [
       "(100, 128, 128, 1)"
      ]
     },
     "execution_count": 11,
     "metadata": {},
     "output_type": "execute_result"
    }
   ],
   "source": [
    "Y_train.shape"
   ]
  },
  {
   "cell_type": "code",
   "execution_count": 12,
   "metadata": {},
   "outputs": [
    {
     "data": {
      "text/plain": [
       "array([[[ True],\n",
       "        [ True],\n",
       "        [ True],\n",
       "        ...,\n",
       "        [ True],\n",
       "        [ True],\n",
       "        [ True]],\n",
       "\n",
       "       [[ True],\n",
       "        [ True],\n",
       "        [ True],\n",
       "        ...,\n",
       "        [ True],\n",
       "        [ True],\n",
       "        [ True]],\n",
       "\n",
       "       [[ True],\n",
       "        [ True],\n",
       "        [False],\n",
       "        ...,\n",
       "        [ True],\n",
       "        [ True],\n",
       "        [ True]],\n",
       "\n",
       "       ...,\n",
       "\n",
       "       [[False],\n",
       "        [False],\n",
       "        [False],\n",
       "        ...,\n",
       "        [False],\n",
       "        [False],\n",
       "        [False]],\n",
       "\n",
       "       [[False],\n",
       "        [False],\n",
       "        [False],\n",
       "        ...,\n",
       "        [False],\n",
       "        [False],\n",
       "        [False]],\n",
       "\n",
       "       [[False],\n",
       "        [False],\n",
       "        [False],\n",
       "        ...,\n",
       "        [False],\n",
       "        [False],\n",
       "        [False]]])"
      ]
     },
     "execution_count": 12,
     "metadata": {},
     "output_type": "execute_result"
    }
   ],
   "source": [
    "Y_train[0]"
   ]
  },
  {
   "cell_type": "code",
   "execution_count": null,
   "metadata": {},
   "outputs": [],
   "source": []
  }
 ],
 "metadata": {
  "kernelspec": {
   "display_name": "Python 3",
   "language": "python",
   "name": "python3"
  },
  "language_info": {
   "codemirror_mode": {
    "name": "ipython",
    "version": 3
   },
   "file_extension": ".py",
   "mimetype": "text/x-python",
   "name": "python",
   "nbconvert_exporter": "python",
   "pygments_lexer": "ipython3",
   "version": "3.6.4"
  }
 },
 "nbformat": 4,
 "nbformat_minor": 1
}
